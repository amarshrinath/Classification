{
 "cells": [
  {
   "cell_type": "markdown",
   "id": "16a89020",
   "metadata": {},
   "source": [
    "# Notebook Imports"
   ]
  },
  {
   "cell_type": "code",
   "execution_count": 1,
   "id": "22079bab",
   "metadata": {},
   "outputs": [],
   "source": [
    "from os import walk\n",
    "from os.path import join\n",
    "\n",
    "import pandas as pd\n",
    "import matplotlib.pyplot as plt\n",
    "import numpy as np\n",
    "\n",
    "import nltk\n",
    "from nltk.stem import PorterStemmer\n",
    "from nltk.stem import SnowballStemmer\n",
    "from nltk.corpus import stopwords\n",
    "from nltk.tokenize import word_tokenize\n",
    "\n",
    "from bs4 import BeautifulSoup\n",
    "from wordcloud import WordCloud\n",
    "from PIL import Image\n",
    "\n",
    "\n",
    "from sklearn.model_selection import train_test_split\n",
    "\n",
    "%matplotlib inline"
   ]
  },
  {
   "cell_type": "markdown",
   "id": "d0a4581a",
   "metadata": {},
   "source": [
    "# Constants"
   ]
  },
  {
   "cell_type": "code",
   "execution_count": 2,
   "id": "efc2f339",
   "metadata": {},
   "outputs": [],
   "source": [
    "EXAMPLE_FILE = \"C:/Users/amar/ML Projects/SpamData/01_Processing/practice_email.txt\"\n",
    "\n",
    "SPAM_1_PATH = \"C:/Users/amar/ML Projects/SpamData/01_Processing/spam_assassin_corpus/spam_1\"\n",
    "SPAM_2_PATH = \"C:/Users/amar/ML Projects/SpamData/01_Processing/spam_assassin_corpus/spam_2\"\n",
    "EASY_NONSPAM_1_PATH = \"C:/Users/amar/ML Projects/SpamData/01_Processing/spam_assassin_corpus/easy_ham_1\"\n",
    "EASY_NONSPAM_2_PATH = \"C:/Users/amar/ML Projects/SpamData/01_Processing/spam_assassin_corpus/easy_ham_2\"\n",
    "\n",
    "\n",
    "SPAM_CAT = 1\n",
    "HAM_CAT = 0\n",
    "VOCAB_SIZE = 2500\n",
    "\n",
    "DATA_JSON_FILE = 'C:/Users/amar/ML Projects/SpamData/01_Processing/email-text-data.json'\n",
    "WORD_ID_FILE = 'C:/Users/amar/ML Projects/SpamData/01_Processing/word_by_id.csv'\n",
    "\n",
    "TRAINING_DATA_FILE = 'C:/Users/amar/ML Projects/SpamData/02_Training/train-data.txt'\n",
    "TEST_DATA_FILE = 'C:/Users/amar/ML Projects/SpamData/02_Training/test_data.txt'\n",
    "\n",
    "\n",
    "WHALE_FILE = 'C:/Users/amar/ML Projects/SpamData/01_Processing/wordcloud_resources/whale-icon.png'\n",
    "SKULL_FILE = 'C:/Users/amar/ML Projects/SpamData/01_Processing/wordcloud_resources/skull-icon.png'\n",
    "\n",
    "THUMBS_UP = 'C:/Users/amar/ML Projects/SpamData/01_Processing/wordcloud_resources/thumbs_up.png'\n",
    "THUMBS_DOWN = 'C:/Users/amar/ML Projects/SpamData/01_Processing/wordcloud_resources/thumbs_down.png'\n"
   ]
  },
  {
   "cell_type": "markdown",
   "id": "77398461",
   "metadata": {},
   "source": [
    "# Gather Data ( Reading files)"
   ]
  },
  {
   "cell_type": "code",
   "execution_count": 3,
   "id": "1098861e",
   "metadata": {},
   "outputs": [
    {
     "name": "stdout",
     "output_type": "stream",
     "text": [
      "\n",
      "\n",
      "Dear Mr Still\n",
      "\n",
      "\n",
      "\n",
      "Good tidings to you and all your staff for the festive season ahead (Christmas).\n",
      "\n",
      "Now to the crux of the matter-in-hand: I am a fully qualified Santa Claus and am wondering whether you might consider me to run my own \"Santa's Grotto\" in your store.\n",
      "\n",
      "But WAIT! You're probably thinking: \"What makes him so special?\"\n",
      "\n",
      "Well, first of all, I have made several changes to the characterisation of Father Christmas. Rather than greeting the children with shouts of \"Ho, ho, ho!\" I prefer to whisper the phrase \"Dependence is not unfathomable in this cruel world we live in\". In addition, my gifts are ALL hand-made, ranging from felt hoops to vanilla-pod holders.\n",
      "\n",
      "You will note also, from the enclosed sketch, that I have radically redesigned Santa's outfit and have renamed my character \"Lord Buckles\". Would you be interested in employing me? I promise NEVER to let you down.\n",
      "\n",
      "I look forward to hearing from you.\n",
      "\n",
      "\n",
      "\n",
      "Best wishes\n",
      "\n",
      "Robin Cooper\n",
      "\n",
      "[Excerpt from the book: The Timewaster Letters by Robin Cooper]\n",
      "\n"
     ]
    }
   ],
   "source": [
    "#OPENING PRACTICE EMAIL FROM DATA\n",
    "#EXTRACTING EMAIL BODY FROM WHOLE EMAIL TEXT\n",
    "stream = open(EXAMPLE_FILE)\n",
    "\n",
    "is_body = False \n",
    "lines = []\n",
    "\n",
    "for line in stream:\n",
    "    if is_body:\n",
    "        lines.append(line)\n",
    "        \n",
    "    elif line == '\\n':\n",
    "        is_body = True\n",
    "\n",
    "stream.close()\n",
    "\n",
    "email_body = '\\n'.join(lines)\n",
    "\n",
    "print(email_body)"
   ]
  },
  {
   "cell_type": "markdown",
   "id": "9ccbd286",
   "metadata": {},
   "source": [
    "##  Email Body Extraction (Generator Functions)"
   ]
  },
  {
   "cell_type": "code",
   "execution_count": 4,
   "id": "20246aa9",
   "metadata": {},
   "outputs": [],
   "source": [
    "def email_body_generator(path):\n",
    "    \n",
    "    for root, dirname, filenames in walk(path):  # walk() this function belongs to os library(from os import walk)\n",
    "        for file_name in filenames:\n",
    "            \n",
    "            filepath = join(root, file_name)\n",
    "            \n",
    "            stream = open(filepath, encoding= 'latin_1')\n",
    "\n",
    "            is_body = False \n",
    "            lines = []\n",
    "\n",
    "            for line in stream:\n",
    "                if is_body:\n",
    "                    lines.append(line)\n",
    "\n",
    "                elif line == '\\n':\n",
    "                    is_body = True\n",
    "\n",
    "            stream.close()\n",
    "\n",
    "            email_body = '\\n'.join(lines)\n",
    "            \n",
    "            yield file_name, email_body\n",
    "\n",
    "           \n",
    "        "
   ]
  },
  {
   "cell_type": "code",
   "execution_count": 5,
   "id": "551ba518",
   "metadata": {},
   "outputs": [],
   "source": [
    "def df_from_directory(path, classification):\n",
    "    rows = []\n",
    "    row_name = []\n",
    "    \n",
    "    for file_name, email_body in email_body_generator(path):\n",
    "        rows.append({'CATEGORY': classification, 'MESSAGE': email_body})\n",
    "        row_name.append(file_name)\n",
    "        \n",
    "        \n",
    "    return pd.DataFrame(rows, index= row_name)"
   ]
  },
  {
   "cell_type": "markdown",
   "id": "afce9499",
   "metadata": {},
   "source": [
    "### Spam emails"
   ]
  },
  {
   "cell_type": "code",
   "execution_count": 6,
   "id": "f613a375",
   "metadata": {},
   "outputs": [
    {
     "data": {
      "text/html": [
       "<div>\n",
       "<style scoped>\n",
       "    .dataframe tbody tr th:only-of-type {\n",
       "        vertical-align: middle;\n",
       "    }\n",
       "\n",
       "    .dataframe tbody tr th {\n",
       "        vertical-align: top;\n",
       "    }\n",
       "\n",
       "    .dataframe thead th {\n",
       "        text-align: right;\n",
       "    }\n",
       "</style>\n",
       "<table border=\"1\" class=\"dataframe\">\n",
       "  <thead>\n",
       "    <tr style=\"text-align: right;\">\n",
       "      <th></th>\n",
       "      <th>CATEGORY</th>\n",
       "      <th>MESSAGE</th>\n",
       "    </tr>\n",
       "  </thead>\n",
       "  <tbody>\n",
       "    <tr>\n",
       "      <th>01397.f75f0dd0dd923faefa3e9cc5ecb8c906</th>\n",
       "      <td>1</td>\n",
       "      <td>This is a multi-part message in MIME format.\\n...</td>\n",
       "    </tr>\n",
       "    <tr>\n",
       "      <th>01398.8ca7045aae4184d56e8509dc5ad6d979</th>\n",
       "      <td>1</td>\n",
       "      <td>Dear Subscriber,\\n\\n\\n\\nIf I could show you a ...</td>\n",
       "    </tr>\n",
       "    <tr>\n",
       "      <th>01399.2319643317e2c5193d574e40a71809c2</th>\n",
       "      <td>1</td>\n",
       "      <td>****Mid-Summer Customer Appreciation SALE!****...</td>\n",
       "    </tr>\n",
       "    <tr>\n",
       "      <th>01400.b444b69845db2fa0a4693ca04e6ac5c5</th>\n",
       "      <td>1</td>\n",
       "      <td>ATTN:SIR/MADAN      \\n\\n\\n\\n                  ...</td>\n",
       "    </tr>\n",
       "    <tr>\n",
       "      <th>cmds</th>\n",
       "      <td>1</td>\n",
       "      <td></td>\n",
       "    </tr>\n",
       "  </tbody>\n",
       "</table>\n",
       "</div>"
      ],
      "text/plain": [
       "                                        CATEGORY  \\\n",
       "01397.f75f0dd0dd923faefa3e9cc5ecb8c906         1   \n",
       "01398.8ca7045aae4184d56e8509dc5ad6d979         1   \n",
       "01399.2319643317e2c5193d574e40a71809c2         1   \n",
       "01400.b444b69845db2fa0a4693ca04e6ac5c5         1   \n",
       "cmds                                           1   \n",
       "\n",
       "                                                                                  MESSAGE  \n",
       "01397.f75f0dd0dd923faefa3e9cc5ecb8c906  This is a multi-part message in MIME format.\\n...  \n",
       "01398.8ca7045aae4184d56e8509dc5ad6d979  Dear Subscriber,\\n\\n\\n\\nIf I could show you a ...  \n",
       "01399.2319643317e2c5193d574e40a71809c2  ****Mid-Summer Customer Appreciation SALE!****...  \n",
       "01400.b444b69845db2fa0a4693ca04e6ac5c5  ATTN:SIR/MADAN      \\n\\n\\n\\n                  ...  \n",
       "cmds                                                                                       "
      ]
     },
     "execution_count": 6,
     "metadata": {},
     "output_type": "execute_result"
    }
   ],
   "source": [
    "spam_emails = df_from_directory(SPAM_1_PATH, SPAM_CAT)\n",
    "spam_emails = spam_emails.append(df_from_directory(SPAM_2_PATH, SPAM_CAT))\n",
    "spam_emails.tail()"
   ]
  },
  {
   "cell_type": "code",
   "execution_count": 7,
   "id": "f8bc8df0",
   "metadata": {},
   "outputs": [
    {
     "data": {
      "text/plain": [
       "(1898, 2)"
      ]
     },
     "execution_count": 7,
     "metadata": {},
     "output_type": "execute_result"
    }
   ],
   "source": [
    "spam_emails.shape"
   ]
  },
  {
   "cell_type": "markdown",
   "id": "33f96f76",
   "metadata": {},
   "source": [
    "### NonSpam emails"
   ]
  },
  {
   "cell_type": "code",
   "execution_count": 8,
   "id": "062e1819",
   "metadata": {},
   "outputs": [
    {
     "data": {
      "text/html": [
       "<div>\n",
       "<style scoped>\n",
       "    .dataframe tbody tr th:only-of-type {\n",
       "        vertical-align: middle;\n",
       "    }\n",
       "\n",
       "    .dataframe tbody tr th {\n",
       "        vertical-align: top;\n",
       "    }\n",
       "\n",
       "    .dataframe thead th {\n",
       "        text-align: right;\n",
       "    }\n",
       "</style>\n",
       "<table border=\"1\" class=\"dataframe\">\n",
       "  <thead>\n",
       "    <tr style=\"text-align: right;\">\n",
       "      <th></th>\n",
       "      <th>CATEGORY</th>\n",
       "      <th>MESSAGE</th>\n",
       "    </tr>\n",
       "  </thead>\n",
       "  <tbody>\n",
       "    <tr>\n",
       "      <th>00001.7c53336b37003a9286aba55d2945844c</th>\n",
       "      <td>0</td>\n",
       "      <td>Date:        Wed, 21 Aug 2002 10:54:46 -05...</td>\n",
       "    </tr>\n",
       "    <tr>\n",
       "      <th>00002.9c4069e25e1ef370c078db7ee85ff9ac</th>\n",
       "      <td>0</td>\n",
       "      <td>Martin A posted:\\n\\nTassos Papadopoulos, the G...</td>\n",
       "    </tr>\n",
       "    <tr>\n",
       "      <th>00003.860e3c3cee1b42ead714c5c874fe25f7</th>\n",
       "      <td>0</td>\n",
       "      <td>Man Threatens Explosion In Moscow \\n\\n\\n\\nThur...</td>\n",
       "    </tr>\n",
       "    <tr>\n",
       "      <th>00004.864220c5b6930b209cc287c361c99af1</th>\n",
       "      <td>0</td>\n",
       "      <td>Klez: The Virus That Won't Die\\n\\n \\n\\nAlready...</td>\n",
       "    </tr>\n",
       "    <tr>\n",
       "      <th>00005.bf27cdeaf0b8c4647ecd61b1d09da613</th>\n",
       "      <td>0</td>\n",
       "      <td>&gt;  in adding cream to spaghetti carbonara, whi...</td>\n",
       "    </tr>\n",
       "  </tbody>\n",
       "</table>\n",
       "</div>"
      ],
      "text/plain": [
       "                                        CATEGORY  \\\n",
       "00001.7c53336b37003a9286aba55d2945844c         0   \n",
       "00002.9c4069e25e1ef370c078db7ee85ff9ac         0   \n",
       "00003.860e3c3cee1b42ead714c5c874fe25f7         0   \n",
       "00004.864220c5b6930b209cc287c361c99af1         0   \n",
       "00005.bf27cdeaf0b8c4647ecd61b1d09da613         0   \n",
       "\n",
       "                                                                                  MESSAGE  \n",
       "00001.7c53336b37003a9286aba55d2945844c      Date:        Wed, 21 Aug 2002 10:54:46 -05...  \n",
       "00002.9c4069e25e1ef370c078db7ee85ff9ac  Martin A posted:\\n\\nTassos Papadopoulos, the G...  \n",
       "00003.860e3c3cee1b42ead714c5c874fe25f7  Man Threatens Explosion In Moscow \\n\\n\\n\\nThur...  \n",
       "00004.864220c5b6930b209cc287c361c99af1  Klez: The Virus That Won't Die\\n\\n \\n\\nAlready...  \n",
       "00005.bf27cdeaf0b8c4647ecd61b1d09da613  >  in adding cream to spaghetti carbonara, whi...  "
      ]
     },
     "execution_count": 8,
     "metadata": {},
     "output_type": "execute_result"
    }
   ],
   "source": [
    "non_spam_emails = df_from_directory(EASY_NONSPAM_1_PATH, HAM_CAT)\n",
    "non_spam_emails = non_spam_emails.append(df_from_directory(EASY_NONSPAM_1_PATH, HAM_CAT))\n",
    "non_spam_emails.head()\n"
   ]
  },
  {
   "cell_type": "code",
   "execution_count": 9,
   "id": "b78fd844",
   "metadata": {},
   "outputs": [
    {
     "data": {
      "text/plain": [
       "(5002, 2)"
      ]
     },
     "execution_count": 9,
     "metadata": {},
     "output_type": "execute_result"
    }
   ],
   "source": [
    "non_spam_emails.shape"
   ]
  },
  {
   "cell_type": "markdown",
   "id": "b968f393",
   "metadata": {},
   "source": [
    "### 'data' : is the datafram which contain all spam and non spam emails"
   ]
  },
  {
   "cell_type": "code",
   "execution_count": 10,
   "id": "b65e676a",
   "metadata": {},
   "outputs": [
    {
     "name": "stdout",
     "output_type": "stream",
     "text": [
      "shape of entire dataframe is  (6900, 2)\n"
     ]
    },
    {
     "data": {
      "text/html": [
       "<div>\n",
       "<style scoped>\n",
       "    .dataframe tbody tr th:only-of-type {\n",
       "        vertical-align: middle;\n",
       "    }\n",
       "\n",
       "    .dataframe tbody tr th {\n",
       "        vertical-align: top;\n",
       "    }\n",
       "\n",
       "    .dataframe thead th {\n",
       "        text-align: right;\n",
       "    }\n",
       "</style>\n",
       "<table border=\"1\" class=\"dataframe\">\n",
       "  <thead>\n",
       "    <tr style=\"text-align: right;\">\n",
       "      <th></th>\n",
       "      <th>CATEGORY</th>\n",
       "      <th>MESSAGE</th>\n",
       "    </tr>\n",
       "  </thead>\n",
       "  <tbody>\n",
       "    <tr>\n",
       "      <th>00001.7848dde101aa985090474a91ec93fcf0</th>\n",
       "      <td>1</td>\n",
       "      <td>&lt;!DOCTYPE HTML PUBLIC \"-//W3C//DTD HTML 4.0 Tr...</td>\n",
       "    </tr>\n",
       "    <tr>\n",
       "      <th>00002.d94f1b97e48ed3b553b3508d116e6a09</th>\n",
       "      <td>1</td>\n",
       "      <td>1) Fight The Risk of Cancer!\\n\\nhttp://www.adc...</td>\n",
       "    </tr>\n",
       "    <tr>\n",
       "      <th>00003.2ee33bc6eacdb11f38d052c44819ba6c</th>\n",
       "      <td>1</td>\n",
       "      <td>1) Fight The Risk of Cancer!\\n\\nhttp://www.adc...</td>\n",
       "    </tr>\n",
       "    <tr>\n",
       "      <th>00004.eac8de8d759b7e74154f142194282724</th>\n",
       "      <td>1</td>\n",
       "      <td>##############################################...</td>\n",
       "    </tr>\n",
       "    <tr>\n",
       "      <th>00005.57696a39d7d84318ce497886896bf90d</th>\n",
       "      <td>1</td>\n",
       "      <td>I thought you might like these:\\n\\n1) Slim Dow...</td>\n",
       "    </tr>\n",
       "  </tbody>\n",
       "</table>\n",
       "</div>"
      ],
      "text/plain": [
       "                                        CATEGORY  \\\n",
       "00001.7848dde101aa985090474a91ec93fcf0         1   \n",
       "00002.d94f1b97e48ed3b553b3508d116e6a09         1   \n",
       "00003.2ee33bc6eacdb11f38d052c44819ba6c         1   \n",
       "00004.eac8de8d759b7e74154f142194282724         1   \n",
       "00005.57696a39d7d84318ce497886896bf90d         1   \n",
       "\n",
       "                                                                                  MESSAGE  \n",
       "00001.7848dde101aa985090474a91ec93fcf0  <!DOCTYPE HTML PUBLIC \"-//W3C//DTD HTML 4.0 Tr...  \n",
       "00002.d94f1b97e48ed3b553b3508d116e6a09  1) Fight The Risk of Cancer!\\n\\nhttp://www.adc...  \n",
       "00003.2ee33bc6eacdb11f38d052c44819ba6c  1) Fight The Risk of Cancer!\\n\\nhttp://www.adc...  \n",
       "00004.eac8de8d759b7e74154f142194282724  ##############################################...  \n",
       "00005.57696a39d7d84318ce497886896bf90d  I thought you might like these:\\n\\n1) Slim Dow...  "
      ]
     },
     "execution_count": 10,
     "metadata": {},
     "output_type": "execute_result"
    }
   ],
   "source": [
    "data = pd.concat([spam_emails, non_spam_emails])\n",
    "print('shape of entire dataframe is ', data.shape)\n",
    "data.head()"
   ]
  },
  {
   "cell_type": "markdown",
   "id": "49b0fc1c",
   "metadata": {},
   "source": [
    "## DATA CLEANING : CHECKING FOR MISSSING VALUES"
   ]
  },
  {
   "cell_type": "code",
   "execution_count": 11,
   "id": "ec73918b",
   "metadata": {},
   "outputs": [
    {
     "data": {
      "text/plain": [
       "False"
      ]
     },
     "execution_count": 11,
     "metadata": {},
     "output_type": "execute_result"
    }
   ],
   "source": [
    "# CHECKING NULL VALUe\n",
    "data['MESSAGE'].isnull().values.any()"
   ]
  },
  {
   "cell_type": "code",
   "execution_count": 12,
   "id": "7f23315b",
   "metadata": {},
   "outputs": [
    {
     "data": {
      "text/plain": [
       "True"
      ]
     },
     "execution_count": 12,
     "metadata": {},
     "output_type": "execute_result"
    }
   ],
   "source": [
    "# Check for empty email body\n",
    "(data.MESSAGE.str.len() == 0).any() "
   ]
  },
  {
   "cell_type": "code",
   "execution_count": 13,
   "id": "52876f58",
   "metadata": {},
   "outputs": [
    {
     "data": {
      "text/plain": [
       "4"
      ]
     },
     "execution_count": 13,
     "metadata": {},
     "output_type": "execute_result"
    }
   ],
   "source": [
    "(data.MESSAGE.str.len() == 0).sum()"
   ]
  },
  {
   "cell_type": "code",
   "execution_count": 14,
   "id": "7964c6fb",
   "metadata": {},
   "outputs": [
    {
     "data": {
      "text/plain": [
       "Index(['cmds', 'cmds', 'cmds', 'cmds'], dtype='object')"
      ]
     },
     "execution_count": 14,
     "metadata": {},
     "output_type": "execute_result"
    }
   ],
   "source": [
    "# locate empty email\n",
    "data[data.MESSAGE.str.len() == 0].index"
   ]
  },
  {
   "cell_type": "code",
   "execution_count": 15,
   "id": "5bde6c7e",
   "metadata": {},
   "outputs": [
    {
     "data": {
      "text/plain": [
       "Index(['cmds', 'cmds', 'cmds', 'cmds'], dtype='object')"
      ]
     },
     "execution_count": 15,
     "metadata": {},
     "output_type": "execute_result"
    }
   ],
   "source": [
    "#above files are nothing but the files that have created when we Unzip the file whiCH is of no use\n",
    "data.index[data.index=='cmds']"
   ]
  },
  {
   "cell_type": "code",
   "execution_count": 16,
   "id": "5f6662ce",
   "metadata": {},
   "outputs": [],
   "source": [
    "#droping the index of items name 'cmds'\n",
    "data = data.drop(index=['cmds'])   "
   ]
  },
  {
   "cell_type": "code",
   "execution_count": 17,
   "id": "0b7ae843",
   "metadata": {},
   "outputs": [
    {
     "data": {
      "text/plain": [
       "0"
      ]
     },
     "execution_count": 17,
     "metadata": {},
     "output_type": "execute_result"
    }
   ],
   "source": [
    "#to make sure there is no empty email body\n",
    "(data.MESSAGE.str.len() == 0).sum()"
   ]
  },
  {
   "cell_type": "code",
   "execution_count": 18,
   "id": "5232a712",
   "metadata": {},
   "outputs": [
    {
     "data": {
      "text/html": [
       "<div>\n",
       "<style scoped>\n",
       "    .dataframe tbody tr th:only-of-type {\n",
       "        vertical-align: middle;\n",
       "    }\n",
       "\n",
       "    .dataframe tbody tr th {\n",
       "        vertical-align: top;\n",
       "    }\n",
       "\n",
       "    .dataframe thead th {\n",
       "        text-align: right;\n",
       "    }\n",
       "</style>\n",
       "<table border=\"1\" class=\"dataframe\">\n",
       "  <thead>\n",
       "    <tr style=\"text-align: right;\">\n",
       "      <th></th>\n",
       "      <th>CATEGORY</th>\n",
       "      <th>MESSAGE</th>\n",
       "    </tr>\n",
       "  </thead>\n",
       "  <tbody>\n",
       "    <tr>\n",
       "      <th>02496.aae0c81581895acfe65323f344340856</th>\n",
       "      <td>0</td>\n",
       "      <td>Man killed 'trying to surf' on Tube train \\n\\n...</td>\n",
       "    </tr>\n",
       "    <tr>\n",
       "      <th>02497.60497db0a06c2132ec2374b2898084d3</th>\n",
       "      <td>0</td>\n",
       "      <td>Hi Gianni,\\n\\n\\n\\nA very good resource for thi...</td>\n",
       "    </tr>\n",
       "    <tr>\n",
       "      <th>02498.09835f512f156da210efb99fcc523e21</th>\n",
       "      <td>0</td>\n",
       "      <td>Gianni Ponzi wrote:\\n\\n&gt; I have a prob when tr...</td>\n",
       "    </tr>\n",
       "    <tr>\n",
       "      <th>02499.b4af165650f138b10f9941f6cc5bce3c</th>\n",
       "      <td>0</td>\n",
       "      <td>Neale Pickett &lt;neale@woozle.org&gt; writes:\\n\\n\\n...</td>\n",
       "    </tr>\n",
       "    <tr>\n",
       "      <th>02500.05b3496ce7bca306bed0805425ec8621</th>\n",
       "      <td>0</td>\n",
       "      <td>\\n\\nHi,\\n\\n\\n\\nI think you need to give us a l...</td>\n",
       "    </tr>\n",
       "  </tbody>\n",
       "</table>\n",
       "</div>"
      ],
      "text/plain": [
       "                                        CATEGORY  \\\n",
       "02496.aae0c81581895acfe65323f344340856         0   \n",
       "02497.60497db0a06c2132ec2374b2898084d3         0   \n",
       "02498.09835f512f156da210efb99fcc523e21         0   \n",
       "02499.b4af165650f138b10f9941f6cc5bce3c         0   \n",
       "02500.05b3496ce7bca306bed0805425ec8621         0   \n",
       "\n",
       "                                                                                  MESSAGE  \n",
       "02496.aae0c81581895acfe65323f344340856  Man killed 'trying to surf' on Tube train \\n\\n...  \n",
       "02497.60497db0a06c2132ec2374b2898084d3  Hi Gianni,\\n\\n\\n\\nA very good resource for thi...  \n",
       "02498.09835f512f156da210efb99fcc523e21  Gianni Ponzi wrote:\\n\\n> I have a prob when tr...  \n",
       "02499.b4af165650f138b10f9941f6cc5bce3c  Neale Pickett <neale@woozle.org> writes:\\n\\n\\n...  \n",
       "02500.05b3496ce7bca306bed0805425ec8621  \\n\\nHi,\\n\\n\\n\\nI think you need to give us a l...  "
      ]
     },
     "execution_count": 18,
     "metadata": {},
     "output_type": "execute_result"
    }
   ],
   "source": [
    "data.tail()"
   ]
  },
  {
   "cell_type": "code",
   "execution_count": 19,
   "id": "0d52819f",
   "metadata": {},
   "outputs": [
    {
     "data": {
      "text/plain": [
       "\"##################################################\\n\\n#                                                #\\n\\n#                 Adult Club                     #\\n\\n#           Offers FREE Membership               #\\n\\n#                                                #\\n\\n##################################################\\n\\n\\n\\n>>>>>  INSTANT ACCESS TO ALL SITES NOW\\n\\n>>>>>  Your User Name And Password is.\\n\\n>>>>>  User Name: zzzz@spamassassin.taint.org\\n\\n>>>>>  Password: 760382\\n\\n\\n\\n5 of the Best Adult Sites on the Internet for FREE!\\n\\n---------------------------------------\\n\\nNEWS 08/18/02\\n\\nWith just over 2.9 Million Members that signed up for FREE, Last month there were 721,184 New\\n\\nMembers. Are you one of them yet???\\n\\n---------------------------------------\\n\\nOur Membership FAQ\\n\\n\\n\\nQ. Why are you offering free access to 5 adult membership sites for free?\\n\\nA. I have advertisers that pay me for ad space so you don't have to pay for membership.\\n\\n\\n\\nQ. Is it true my membership is for life?\\n\\nA. Absolutely you'll never have to pay a cent the advertisers do.\\n\\n\\n\\nQ. Can I give my account to my friends and family?\\n\\nA. Yes, as long they are over the age of 18.\\n\\n\\n\\nQ. Do I have to sign up for all 5 membership sites?\\n\\nA. No just one to get access to all of them.\\n\\n\\n\\nQ. How do I get started?\\n\\nA. Click on one of the following links below to become a member.\\n\\n\\n\\n- These are multi million dollar operations with policies and rules.\\n\\n- Fill in the required info and they won't charge you for the Free pass!\\n\\n- If you don't believe us, just read their terms and conditions.\\n\\n\\n\\n---------------------------\\n\\n\\n\\n# 5. > Adults Farm\\n\\nhttp://80.71.66.8/farm/?aid=760382\\n\\nGirls and Animals Getting Freaky....FREE Lifetime Membership!!\\n\\n\\n\\n# 4. > Sexy Celebes\\n\\nhttp://80.71.66.8/celebst/?aid=760382\\n\\nThousands Of XXX Celebes doing it...FREE Lifetime Membership!!\\n\\n\\n\\n# 3. > Play House Porn\\n\\nhttp://80.71.66.8/mega/?aid=760382\\n\\nLive Feeds From 60 Sites And Web Cams...FREE Lifetime Membership!!\\n\\n\\n\\n# 2. > Asian Sex Fantasies\\n\\nhttp://80.71.66.8/asian/?aid=760382\\n\\nJapanese Schoolgirls, Live Sex Shows ...FREE Lifetime Membership!!\\n\\n\\n\\n# 1. > Lesbian Lace\\n\\nhttp://80.71.66.8/lesbian/?aid=760382\\n\\nGirls and Girls Getting Freaky! ...FREE Lifetime Membership!!\\n\\n\\n\\n--------------------------\\n\\n\\n\\nJennifer Simpson, Miami, FL\\n\\nYour FREE lifetime membership has entertained my boyffriend and I for\\n\\nthe last two years!  Your Adult Sites are the best on the net!\\n\\n\\n\\nJoe Morgan Manhattan, NY\\n\\nYour live sex shows and live sex cams are unbelievable. The best part\\n\\nabout your porn sites, is that they're absolutely FREE!\\n\\n\\n\\n--------------------------\\n\\n\\n\\n\\n\\n\\n\\n\\n\\n\\n\\n\\n\\n\\n\\n\\n\\n\\n\\nRemoval Instructions:\\n\\n\\n\\nYou have received this advertisement because you have opted in to receive free adult internet\\n\\noffers and specials through our affiliated websites. If you do not wish to receive further emails\\n\\nor have received the email in error you may opt-out of our database here\\n\\nhttp://80.71.66.8/optout/ . Please allow 24 hours for removal.\\n\\n\\n\\nvonolmosatkirekpups\\n\\n\\n\""
      ]
     },
     "execution_count": 19,
     "metadata": {},
     "output_type": "execute_result"
    }
   ],
   "source": [
    "data.iat[3, 1]"
   ]
  },
  {
   "cell_type": "markdown",
   "id": "9ba3d5c3",
   "metadata": {},
   "source": [
    "### Add documents IDs to track Emails in Dataset"
   ]
  },
  {
   "cell_type": "code",
   "execution_count": 20,
   "id": "ed8fcf9b",
   "metadata": {},
   "outputs": [],
   "source": [
    "#creating document id and asign that as different column od DOC_ID in dataframe\n",
    "documents_ids = range(0, len(data.index))\n",
    "data['DOC_IDs'] = documents_ids"
   ]
  },
  {
   "cell_type": "code",
   "execution_count": 21,
   "id": "6e695da1",
   "metadata": {},
   "outputs": [
    {
     "data": {
      "text/plain": [
       "00001.7848dde101aa985090474a91ec93fcf0       0\n",
       "00002.d94f1b97e48ed3b553b3508d116e6a09       1\n",
       "00003.2ee33bc6eacdb11f38d052c44819ba6c       2\n",
       "00004.eac8de8d759b7e74154f142194282724       3\n",
       "00005.57696a39d7d84318ce497886896bf90d       4\n",
       "                                          ... \n",
       "02496.aae0c81581895acfe65323f344340856    6891\n",
       "02497.60497db0a06c2132ec2374b2898084d3    6892\n",
       "02498.09835f512f156da210efb99fcc523e21    6893\n",
       "02499.b4af165650f138b10f9941f6cc5bce3c    6894\n",
       "02500.05b3496ce7bca306bed0805425ec8621    6895\n",
       "Name: DOC_IDs, Length: 6896, dtype: int64"
      ]
     },
     "execution_count": 21,
     "metadata": {},
     "output_type": "execute_result"
    }
   ],
   "source": [
    "data.DOC_IDs"
   ]
  },
  {
   "cell_type": "code",
   "execution_count": 22,
   "id": "0ad82c31",
   "metadata": {},
   "outputs": [
    {
     "data": {
      "text/html": [
       "<div>\n",
       "<style scoped>\n",
       "    .dataframe tbody tr th:only-of-type {\n",
       "        vertical-align: middle;\n",
       "    }\n",
       "\n",
       "    .dataframe tbody tr th {\n",
       "        vertical-align: top;\n",
       "    }\n",
       "\n",
       "    .dataframe thead th {\n",
       "        text-align: right;\n",
       "    }\n",
       "</style>\n",
       "<table border=\"1\" class=\"dataframe\">\n",
       "  <thead>\n",
       "    <tr style=\"text-align: right;\">\n",
       "      <th></th>\n",
       "      <th>CATEGORY</th>\n",
       "      <th>MESSAGE</th>\n",
       "      <th>DOC_IDs</th>\n",
       "      <th>FILE_NAME</th>\n",
       "    </tr>\n",
       "  </thead>\n",
       "  <tbody>\n",
       "    <tr>\n",
       "      <th>00001.7848dde101aa985090474a91ec93fcf0</th>\n",
       "      <td>1</td>\n",
       "      <td>&lt;!DOCTYPE HTML PUBLIC \"-//W3C//DTD HTML 4.0 Tr...</td>\n",
       "      <td>0</td>\n",
       "      <td>00001.7848dde101aa985090474a91ec93fcf0</td>\n",
       "    </tr>\n",
       "    <tr>\n",
       "      <th>00002.d94f1b97e48ed3b553b3508d116e6a09</th>\n",
       "      <td>1</td>\n",
       "      <td>1) Fight The Risk of Cancer!\\n\\nhttp://www.adc...</td>\n",
       "      <td>1</td>\n",
       "      <td>00002.d94f1b97e48ed3b553b3508d116e6a09</td>\n",
       "    </tr>\n",
       "    <tr>\n",
       "      <th>00003.2ee33bc6eacdb11f38d052c44819ba6c</th>\n",
       "      <td>1</td>\n",
       "      <td>1) Fight The Risk of Cancer!\\n\\nhttp://www.adc...</td>\n",
       "      <td>2</td>\n",
       "      <td>00003.2ee33bc6eacdb11f38d052c44819ba6c</td>\n",
       "    </tr>\n",
       "    <tr>\n",
       "      <th>00004.eac8de8d759b7e74154f142194282724</th>\n",
       "      <td>1</td>\n",
       "      <td>##############################################...</td>\n",
       "      <td>3</td>\n",
       "      <td>00004.eac8de8d759b7e74154f142194282724</td>\n",
       "    </tr>\n",
       "    <tr>\n",
       "      <th>00005.57696a39d7d84318ce497886896bf90d</th>\n",
       "      <td>1</td>\n",
       "      <td>I thought you might like these:\\n\\n1) Slim Dow...</td>\n",
       "      <td>4</td>\n",
       "      <td>00005.57696a39d7d84318ce497886896bf90d</td>\n",
       "    </tr>\n",
       "  </tbody>\n",
       "</table>\n",
       "</div>"
      ],
      "text/plain": [
       "                                        CATEGORY  \\\n",
       "00001.7848dde101aa985090474a91ec93fcf0         1   \n",
       "00002.d94f1b97e48ed3b553b3508d116e6a09         1   \n",
       "00003.2ee33bc6eacdb11f38d052c44819ba6c         1   \n",
       "00004.eac8de8d759b7e74154f142194282724         1   \n",
       "00005.57696a39d7d84318ce497886896bf90d         1   \n",
       "\n",
       "                                                                                  MESSAGE  \\\n",
       "00001.7848dde101aa985090474a91ec93fcf0  <!DOCTYPE HTML PUBLIC \"-//W3C//DTD HTML 4.0 Tr...   \n",
       "00002.d94f1b97e48ed3b553b3508d116e6a09  1) Fight The Risk of Cancer!\\n\\nhttp://www.adc...   \n",
       "00003.2ee33bc6eacdb11f38d052c44819ba6c  1) Fight The Risk of Cancer!\\n\\nhttp://www.adc...   \n",
       "00004.eac8de8d759b7e74154f142194282724  ##############################################...   \n",
       "00005.57696a39d7d84318ce497886896bf90d  I thought you might like these:\\n\\n1) Slim Dow...   \n",
       "\n",
       "                                        DOC_IDs  \\\n",
       "00001.7848dde101aa985090474a91ec93fcf0        0   \n",
       "00002.d94f1b97e48ed3b553b3508d116e6a09        1   \n",
       "00003.2ee33bc6eacdb11f38d052c44819ba6c        2   \n",
       "00004.eac8de8d759b7e74154f142194282724        3   \n",
       "00005.57696a39d7d84318ce497886896bf90d        4   \n",
       "\n",
       "                                                                     FILE_NAME  \n",
       "00001.7848dde101aa985090474a91ec93fcf0  00001.7848dde101aa985090474a91ec93fcf0  \n",
       "00002.d94f1b97e48ed3b553b3508d116e6a09  00002.d94f1b97e48ed3b553b3508d116e6a09  \n",
       "00003.2ee33bc6eacdb11f38d052c44819ba6c  00003.2ee33bc6eacdb11f38d052c44819ba6c  \n",
       "00004.eac8de8d759b7e74154f142194282724  00004.eac8de8d759b7e74154f142194282724  \n",
       "00005.57696a39d7d84318ce497886896bf90d  00005.57696a39d7d84318ce497886896bf90d  "
      ]
     },
     "execution_count": 22,
     "metadata": {},
     "output_type": "execute_result"
    }
   ],
   "source": [
    "#creating column of name FILE_NAME,\n",
    "data['FILE_NAME'] = data.index  \n",
    "data.head()"
   ]
  },
  {
   "cell_type": "code",
   "execution_count": 23,
   "id": "956ffa2a",
   "metadata": {},
   "outputs": [
    {
     "data": {
      "text/html": [
       "<div>\n",
       "<style scoped>\n",
       "    .dataframe tbody tr th:only-of-type {\n",
       "        vertical-align: middle;\n",
       "    }\n",
       "\n",
       "    .dataframe tbody tr th {\n",
       "        vertical-align: top;\n",
       "    }\n",
       "\n",
       "    .dataframe thead th {\n",
       "        text-align: right;\n",
       "    }\n",
       "</style>\n",
       "<table border=\"1\" class=\"dataframe\">\n",
       "  <thead>\n",
       "    <tr style=\"text-align: right;\">\n",
       "      <th></th>\n",
       "      <th>CATEGORY</th>\n",
       "      <th>MESSAGE</th>\n",
       "      <th>FILE_NAME</th>\n",
       "    </tr>\n",
       "    <tr>\n",
       "      <th>DOC_IDs</th>\n",
       "      <th></th>\n",
       "      <th></th>\n",
       "      <th></th>\n",
       "    </tr>\n",
       "  </thead>\n",
       "  <tbody>\n",
       "    <tr>\n",
       "      <th>0</th>\n",
       "      <td>1</td>\n",
       "      <td>&lt;!DOCTYPE HTML PUBLIC \"-//W3C//DTD HTML 4.0 Tr...</td>\n",
       "      <td>00001.7848dde101aa985090474a91ec93fcf0</td>\n",
       "    </tr>\n",
       "    <tr>\n",
       "      <th>1</th>\n",
       "      <td>1</td>\n",
       "      <td>1) Fight The Risk of Cancer!\\n\\nhttp://www.adc...</td>\n",
       "      <td>00002.d94f1b97e48ed3b553b3508d116e6a09</td>\n",
       "    </tr>\n",
       "    <tr>\n",
       "      <th>2</th>\n",
       "      <td>1</td>\n",
       "      <td>1) Fight The Risk of Cancer!\\n\\nhttp://www.adc...</td>\n",
       "      <td>00003.2ee33bc6eacdb11f38d052c44819ba6c</td>\n",
       "    </tr>\n",
       "    <tr>\n",
       "      <th>3</th>\n",
       "      <td>1</td>\n",
       "      <td>##############################################...</td>\n",
       "      <td>00004.eac8de8d759b7e74154f142194282724</td>\n",
       "    </tr>\n",
       "    <tr>\n",
       "      <th>4</th>\n",
       "      <td>1</td>\n",
       "      <td>I thought you might like these:\\n\\n1) Slim Dow...</td>\n",
       "      <td>00005.57696a39d7d84318ce497886896bf90d</td>\n",
       "    </tr>\n",
       "    <tr>\n",
       "      <th>...</th>\n",
       "      <td>...</td>\n",
       "      <td>...</td>\n",
       "      <td>...</td>\n",
       "    </tr>\n",
       "    <tr>\n",
       "      <th>6891</th>\n",
       "      <td>0</td>\n",
       "      <td>Man killed 'trying to surf' on Tube train \\n\\n...</td>\n",
       "      <td>02496.aae0c81581895acfe65323f344340856</td>\n",
       "    </tr>\n",
       "    <tr>\n",
       "      <th>6892</th>\n",
       "      <td>0</td>\n",
       "      <td>Hi Gianni,\\n\\n\\n\\nA very good resource for thi...</td>\n",
       "      <td>02497.60497db0a06c2132ec2374b2898084d3</td>\n",
       "    </tr>\n",
       "    <tr>\n",
       "      <th>6893</th>\n",
       "      <td>0</td>\n",
       "      <td>Gianni Ponzi wrote:\\n\\n&gt; I have a prob when tr...</td>\n",
       "      <td>02498.09835f512f156da210efb99fcc523e21</td>\n",
       "    </tr>\n",
       "    <tr>\n",
       "      <th>6894</th>\n",
       "      <td>0</td>\n",
       "      <td>Neale Pickett &lt;neale@woozle.org&gt; writes:\\n\\n\\n...</td>\n",
       "      <td>02499.b4af165650f138b10f9941f6cc5bce3c</td>\n",
       "    </tr>\n",
       "    <tr>\n",
       "      <th>6895</th>\n",
       "      <td>0</td>\n",
       "      <td>\\n\\nHi,\\n\\n\\n\\nI think you need to give us a l...</td>\n",
       "      <td>02500.05b3496ce7bca306bed0805425ec8621</td>\n",
       "    </tr>\n",
       "  </tbody>\n",
       "</table>\n",
       "<p>6896 rows × 3 columns</p>\n",
       "</div>"
      ],
      "text/plain": [
       "         CATEGORY                                            MESSAGE  \\\n",
       "DOC_IDs                                                                \n",
       "0               1  <!DOCTYPE HTML PUBLIC \"-//W3C//DTD HTML 4.0 Tr...   \n",
       "1               1  1) Fight The Risk of Cancer!\\n\\nhttp://www.adc...   \n",
       "2               1  1) Fight The Risk of Cancer!\\n\\nhttp://www.adc...   \n",
       "3               1  ##############################################...   \n",
       "4               1  I thought you might like these:\\n\\n1) Slim Dow...   \n",
       "...           ...                                                ...   \n",
       "6891            0  Man killed 'trying to surf' on Tube train \\n\\n...   \n",
       "6892            0  Hi Gianni,\\n\\n\\n\\nA very good resource for thi...   \n",
       "6893            0  Gianni Ponzi wrote:\\n\\n> I have a prob when tr...   \n",
       "6894            0  Neale Pickett <neale@woozle.org> writes:\\n\\n\\n...   \n",
       "6895            0  \\n\\nHi,\\n\\n\\n\\nI think you need to give us a l...   \n",
       "\n",
       "                                      FILE_NAME  \n",
       "DOC_IDs                                          \n",
       "0        00001.7848dde101aa985090474a91ec93fcf0  \n",
       "1        00002.d94f1b97e48ed3b553b3508d116e6a09  \n",
       "2        00003.2ee33bc6eacdb11f38d052c44819ba6c  \n",
       "3        00004.eac8de8d759b7e74154f142194282724  \n",
       "4        00005.57696a39d7d84318ce497886896bf90d  \n",
       "...                                         ...  \n",
       "6891     02496.aae0c81581895acfe65323f344340856  \n",
       "6892     02497.60497db0a06c2132ec2374b2898084d3  \n",
       "6893     02498.09835f512f156da210efb99fcc523e21  \n",
       "6894     02499.b4af165650f138b10f9941f6cc5bce3c  \n",
       "6895     02500.05b3496ce7bca306bed0805425ec8621  \n",
       "\n",
       "[6896 rows x 3 columns]"
      ]
     },
     "execution_count": 23,
     "metadata": {},
     "output_type": "execute_result"
    }
   ],
   "source": [
    "#we setting the new index to our dataframe as DOC_IDs\n",
    "data.set_index('DOC_IDs', inplace = True)\n",
    "data"
   ]
  },
  {
   "cell_type": "code",
   "execution_count": 24,
   "id": "d269672f",
   "metadata": {},
   "outputs": [
    {
     "data": {
      "text/plain": [
       "(6896, 3)"
      ]
     },
     "execution_count": 24,
     "metadata": {},
     "output_type": "execute_result"
    }
   ],
   "source": [
    "data.shape"
   ]
  },
  {
   "cell_type": "markdown",
   "id": "1941a508",
   "metadata": {},
   "source": [
    "# Data Visulization of no. of Spam Message (Pie Chart)"
   ]
  },
  {
   "cell_type": "code",
   "execution_count": 25,
   "id": "065f6921",
   "metadata": {},
   "outputs": [
    {
     "data": {
      "text/plain": [
       "0    5000\n",
       "1    1896\n",
       "Name: CATEGORY, dtype: int64"
      ]
     },
     "execution_count": 25,
     "metadata": {},
     "output_type": "execute_result"
    }
   ],
   "source": [
    "data.CATEGORY.value_counts()"
   ]
  },
  {
   "cell_type": "code",
   "execution_count": 26,
   "id": "0d564eac",
   "metadata": {},
   "outputs": [],
   "source": [
    "amount_of_spam = data.CATEGORY.value_counts()[1]\n",
    "amount_of_ham = data.CATEGORY.value_counts()[0]"
   ]
  },
  {
   "cell_type": "code",
   "execution_count": 27,
   "id": "3a1cb1e5",
   "metadata": {},
   "outputs": [
    {
     "data": {
      "image/png": "[encoded data removed]",
      "text/plain": [
       "<Figure size 480x480 with 1 Axes>"
      ]
     },
     "metadata": {},
     "output_type": "display_data"
    }
   ],
   "source": [
    "#visulizing in pichart\n",
    "category_names = ['spam', 'Legit Mails']\n",
    "sizes = [amount_of_spam, amount_of_ham]\n",
    "custom_colors = ['#e74c3c', '#3498db']\n",
    "\n",
    "plt.figure(figsize= (2, 2), dpi= 240)\n",
    "plt.pie(sizes, labels=category_names, textprops= {'fontsize': 7}, startangle= 10, \n",
    "        autopct= '%1.0f%%', colors= custom_colors, explode= [0, 0.1])  \n",
    "plt.show() "
   ]
  },
  {
   "cell_type": "markdown",
   "id": "776cc318",
   "metadata": {},
   "source": [
    "## Text Pre-Processing"
   ]
  },
  {
   "cell_type": "markdown",
   "id": "ee6feb07",
   "metadata": {},
   "source": [
    "### Download the NLTK Resources (Tokenizer and Stopwords)"
   ]
  },
  {
   "cell_type": "code",
   "execution_count": 28,
   "id": "13f50c39",
   "metadata": {},
   "outputs": [
    {
     "name": "stderr",
     "output_type": "stream",
     "text": [
      "[nltk_data] Downloading package punkt to\n",
      "[nltk_data]     C:\\Users\\amar\\AppData\\Roaming\\nltk_data...\n",
      "[nltk_data]   Package punkt is already up-to-date!\n"
     ]
    },
    {
     "data": {
      "text/plain": [
       "True"
      ]
     },
     "execution_count": 28,
     "metadata": {},
     "output_type": "execute_result"
    }
   ],
   "source": [
    "#downloading resource for tokenixe\n",
    "nltk.download('punkt') "
   ]
  },
  {
   "cell_type": "code",
   "execution_count": 29,
   "id": "057022d5",
   "metadata": {},
   "outputs": [
    {
     "name": "stderr",
     "output_type": "stream",
     "text": [
      "[nltk_data] Downloading package stopwords to\n",
      "[nltk_data]     C:\\Users\\amar\\AppData\\Roaming\\nltk_data...\n",
      "[nltk_data]   Package stopwords is already up-to-date!\n"
     ]
    },
    {
     "data": {
      "text/plain": [
       "True"
      ]
     },
     "execution_count": 29,
     "metadata": {},
     "output_type": "execute_result"
    }
   ],
   "source": [
    "#downloading resource for remove stopwords\n",
    "nltk.download('stopwords')"
   ]
  },
  {
   "cell_type": "code",
   "execution_count": 30,
   "id": "d305fbbd",
   "metadata": {},
   "outputs": [
    {
     "name": "stderr",
     "output_type": "stream",
     "text": [
      "[nltk_data] Downloading package gutenberg to\n",
      "[nltk_data]     C:\\Users\\amar\\AppData\\Roaming\\nltk_data...\n",
      "[nltk_data]   Package gutenberg is already up-to-date!\n",
      "[nltk_data] Downloading package shakespeare to\n",
      "[nltk_data]     C:\\Users\\amar\\AppData\\Roaming\\nltk_data...\n",
      "[nltk_data]   Package shakespeare is already up-to-date!\n"
     ]
    },
    {
     "data": {
      "text/plain": [
       "True"
      ]
     },
     "execution_count": 30,
     "metadata": {},
     "output_type": "execute_result"
    }
   ],
   "source": [
    "#some addditional corpora f0r wordcloud trial\n",
    "nltk.download('gutenberg')    \n",
    "nltk.download('shakespeare')"
   ]
  },
  {
   "cell_type": "code",
   "execution_count": 31,
   "id": "c0f73200",
   "metadata": {},
   "outputs": [],
   "source": [
    "## Tokenizing\n",
    "#Removing stopwords\n",
    "#Word Stems and Stemming\n",
    "#Removing Punctuation\n",
    "#Removing HTML Tags from Emails"
   ]
  },
  {
   "cell_type": "markdown",
   "id": "6a0c6a02",
   "metadata": {},
   "source": [
    "### FUNCTIONS FOR EMAIL PROCESSING"
   ]
  },
  {
   "cell_type": "code",
   "execution_count": 32,
   "id": "5b7cc79a",
   "metadata": {},
   "outputs": [],
   "source": [
    "def clean_message(message, stemmer= PorterStemmer(),\n",
    "                 stop_words= set(stopwords.words('english')) ):\n",
    "    \n",
    "  \n",
    "    \n",
    "    #convert into lower case and splits up the words\n",
    "    words = word_tokenize(message.lower())\n",
    "\n",
    "    filtered_words = []\n",
    "    \n",
    "    for word in words:\n",
    "        #remove the stopwords and punctuation\n",
    "        if word not in stop_words and word.isalpha():\n",
    "            filtered_words.append(stemmer.stem(word))\n",
    "            \n",
    "    return filtered_words\n"
   ]
  },
  {
   "cell_type": "code",
   "execution_count": 33,
   "id": "a0643eb5",
   "metadata": {
    "scrolled": true
   },
   "outputs": [
    {
     "data": {
      "text/plain": [
       "['dear',\n",
       " 'mr',\n",
       " 'still',\n",
       " 'good',\n",
       " 'tide',\n",
       " 'staff',\n",
       " 'festiv',\n",
       " 'season',\n",
       " 'ahead',\n",
       " 'christma',\n",
       " 'crux',\n",
       " 'fulli',\n",
       " 'qualifi',\n",
       " 'santa',\n",
       " 'clau',\n",
       " 'wonder',\n",
       " 'whether',\n",
       " 'might',\n",
       " 'consid',\n",
       " 'run',\n",
       " 'santa',\n",
       " 'grotto',\n",
       " 'store',\n",
       " 'wait',\n",
       " 'probabl',\n",
       " 'think',\n",
       " 'make',\n",
       " 'special',\n",
       " 'well',\n",
       " 'first',\n",
       " 'made',\n",
       " 'sever',\n",
       " 'chang',\n",
       " 'characteris',\n",
       " 'father',\n",
       " 'christma',\n",
       " 'rather',\n",
       " 'greet',\n",
       " 'children',\n",
       " 'shout',\n",
       " 'ho',\n",
       " 'ho',\n",
       " 'ho',\n",
       " 'prefer',\n",
       " 'whisper',\n",
       " 'phrase',\n",
       " 'depend',\n",
       " 'unfathom',\n",
       " 'cruel',\n",
       " 'world',\n",
       " 'live',\n",
       " 'addit',\n",
       " 'gift',\n",
       " 'rang',\n",
       " 'felt',\n",
       " 'hoop',\n",
       " 'holder',\n",
       " 'note',\n",
       " 'also',\n",
       " 'enclos',\n",
       " 'sketch',\n",
       " 'radic',\n",
       " 'redesign',\n",
       " 'santa',\n",
       " 'outfit',\n",
       " 'renam',\n",
       " 'charact',\n",
       " 'lord',\n",
       " 'buckl',\n",
       " 'would',\n",
       " 'interest',\n",
       " 'employ',\n",
       " 'promis',\n",
       " 'never',\n",
       " 'let',\n",
       " 'look',\n",
       " 'forward',\n",
       " 'hear',\n",
       " 'best',\n",
       " 'wish',\n",
       " 'robin',\n",
       " 'cooper',\n",
       " 'excerpt',\n",
       " 'book',\n",
       " 'timewast',\n",
       " 'letter',\n",
       " 'robin',\n",
       " 'cooper']"
      ]
     },
     "execution_count": 33,
     "metadata": {},
     "output_type": "execute_result"
    }
   ],
   "source": [
    "clean_message(email_body)"
   ]
  },
  {
   "cell_type": "code",
   "execution_count": 34,
   "id": "33234567",
   "metadata": {},
   "outputs": [],
   "source": [
    "#modify to remove html tag\n",
    "def clean_message_no_html(message, stemmer= PorterStemmer(),\n",
    "                 stop_words= set(stopwords.words('english')) ):\n",
    "    \n",
    "    #remove html tag\n",
    "    soup = BeautifulSoup(message)\n",
    "    cleaned_text = soup.get_text()\n",
    "    \n",
    "    #convert into lower case and splits up the words\n",
    "    words = word_tokenize(cleaned_text.lower())\n",
    "\n",
    "    filtered_words = []\n",
    "    \n",
    "    for word in words:\n",
    "        #remove the stopwords and punctuation\n",
    "        if word not in stop_words and word.isalpha():\n",
    "            filtered_words.append(stemmer.stem(word))\n",
    "            \n",
    "    return filtered_words"
   ]
  },
  {
   "cell_type": "code",
   "execution_count": 35,
   "id": "6bdd1fba",
   "metadata": {},
   "outputs": [
    {
     "data": {
      "text/plain": [
       "['fight',\n",
       " 'risk',\n",
       " 'cancer',\n",
       " 'http',\n",
       " 'slim',\n",
       " 'guarante',\n",
       " 'lose',\n",
       " 'lb',\n",
       " 'day',\n",
       " 'http',\n",
       " 'get',\n",
       " 'child',\n",
       " 'support',\n",
       " 'deserv',\n",
       " 'free',\n",
       " 'legal',\n",
       " 'advic',\n",
       " 'http',\n",
       " 'join',\n",
       " 'web',\n",
       " 'fastest',\n",
       " 'grow',\n",
       " 'singl',\n",
       " 'commun',\n",
       " 'http',\n",
       " 'start',\n",
       " 'privat',\n",
       " 'photo',\n",
       " 'album',\n",
       " 'onlin',\n",
       " 'http',\n",
       " 'wonder',\n",
       " 'day',\n",
       " 'offer',\n",
       " 'manag',\n",
       " 'prizemama',\n",
       " 'wish',\n",
       " 'leav',\n",
       " 'list',\n",
       " 'pleas',\n",
       " 'use',\n",
       " 'link',\n",
       " 'http',\n",
       " 'zzzz']"
      ]
     },
     "execution_count": 35,
     "metadata": {},
     "output_type": "execute_result"
    }
   ],
   "source": [
    "clean_message_no_html(data.at[2, 'MESSAGE'])"
   ]
  },
  {
   "cell_type": "code",
   "execution_count": 36,
   "id": "f74e2215",
   "metadata": {},
   "outputs": [
    {
     "name": "stderr",
     "output_type": "stream",
     "text": [
      "C:\\Users\\amar\\anaconda3\\lib\\site-packages\\bs4\\__init__.py:431: MarkupResemblesLocatorWarning: \"http://www.post-gazette.com/columnists/20020905brian5\n",
      "\" looks like a URL. Beautiful Soup is not an HTTP client. You should probably use an HTTP client like requests to get the document behind the URL, and feed that document to Beautiful Soup.\n",
      "  warnings.warn(\n"
     ]
    },
    {
     "name": "stdout",
     "output_type": "stream",
     "text": [
      "Wall time: 54.7 s\n"
     ]
    }
   ],
   "source": [
    "%%time\n",
    "\n",
    "#use apply() on all the messages in dataframe apply() is the property of pandas\n",
    "nested_list = data.MESSAGE.apply(clean_message_no_html)"
   ]
  },
  {
   "cell_type": "code",
   "execution_count": 37,
   "id": "27858ae6",
   "metadata": {},
   "outputs": [
    {
     "data": {
      "text/plain": [
       "DOC_IDs\n",
       "0    [save, life, insur, spend, life, quot, save, g...\n",
       "1    [fight, risk, cancer, http, slim, guarante, lo...\n",
       "2    [fight, risk, cancer, http, slim, guarante, lo...\n",
       "3    [adult, club, offer, free, membership, instant...\n",
       "4    [thought, might, like, slim, guarante, lose, l...\n",
       "Name: MESSAGE, dtype: object"
      ]
     },
     "execution_count": 37,
     "metadata": {},
     "output_type": "execute_result"
    }
   ],
   "source": [
    "nested_list.head()"
   ]
  },
  {
   "cell_type": "code",
   "execution_count": 38,
   "id": "6d3fafe0",
   "metadata": {},
   "outputs": [
    {
     "data": {
      "text/plain": [
       "pandas.core.series.Series"
      ]
     },
     "execution_count": 38,
     "metadata": {},
     "output_type": "execute_result"
    }
   ],
   "source": [
    "type(nested_list)"
   ]
  },
  {
   "cell_type": "markdown",
   "id": "288df499",
   "metadata": {},
   "source": [
    "### Using logic to slice DataFrame"
   ]
  },
  {
   "cell_type": "code",
   "execution_count": 39,
   "id": "8cfc05e2",
   "metadata": {},
   "outputs": [
    {
     "data": {
      "text/plain": [
       "Int64Index([   0,    1,    2,    3,    4,    5,    6,    7,    8,    9,\n",
       "            ...\n",
       "            1886, 1887, 1888, 1889, 1890, 1891, 1892, 1893, 1894, 1895],\n",
       "           dtype='int64', name='DOC_IDs', length=1896)"
      ]
     },
     "execution_count": 39,
     "metadata": {},
     "output_type": "execute_result"
    }
   ],
   "source": [
    "#getting index of spam and nonSpam emails\n",
    "doc_id_spam = data[data.CATEGORY == 1].index\n",
    "doc_id_ham = data[data.CATEGORY == 0].index\n",
    "doc_id_spam"
   ]
  },
  {
   "cell_type": "code",
   "execution_count": 40,
   "id": "7fb21dd0",
   "metadata": {},
   "outputs": [
    {
     "data": {
      "text/plain": [
       "Int64Index([1896, 1897, 1898, 1899, 1900, 1901, 1902, 1903, 1904, 1905,\n",
       "            ...\n",
       "            6886, 6887, 6888, 6889, 6890, 6891, 6892, 6893, 6894, 6895],\n",
       "           dtype='int64', name='DOC_IDs', length=5000)"
      ]
     },
     "execution_count": 40,
     "metadata": {},
     "output_type": "execute_result"
    }
   ],
   "source": [
    "doc_id_ham"
   ]
  },
  {
   "cell_type": "code",
   "execution_count": 41,
   "id": "3756e5b5",
   "metadata": {},
   "outputs": [
    {
     "data": {
      "text/plain": [
       "(5000,)"
      ]
     },
     "execution_count": 41,
     "metadata": {},
     "output_type": "execute_result"
    }
   ],
   "source": [
    "#extrcting data from nested list providing index that we extract from datafram\n",
    "nested_list_ham = nested_list.loc[doc_id_ham]   \n",
    "nested_list_ham.shape"
   ]
  },
  {
   "cell_type": "code",
   "execution_count": 42,
   "id": "d080148b",
   "metadata": {},
   "outputs": [
    {
     "data": {
      "text/plain": [
       "DOC_IDs\n",
       "6891    [man, kill, surf, tube, train, ananova, wednes...\n",
       "6892    [hi, gianni, good, resourc, http, http, walk, ...\n",
       "6893    [gianni, ponzi, wrote, prob, tri, instal, linu...\n",
       "6894    [neal, pickett, write, skip, montanaro, write,...\n",
       "6895    [hi, think, need, give, us, littl, detail, inf...\n",
       "Name: MESSAGE, dtype: object"
      ]
     },
     "execution_count": 42,
     "metadata": {},
     "output_type": "execute_result"
    }
   ],
   "source": [
    "nested_list_ham.tail()"
   ]
  },
  {
   "cell_type": "code",
   "execution_count": 43,
   "id": "5c5743d5",
   "metadata": {},
   "outputs": [
    {
     "data": {
      "text/plain": [
       "(1896,)"
      ]
     },
     "execution_count": 43,
     "metadata": {},
     "output_type": "execute_result"
    }
   ],
   "source": [
    " #extrcting data from nested list providing index that we extract from datafram\n",
    "nested_list_spam = nested_list.loc[doc_id_spam] \n",
    "nested_list_spam.shape"
   ]
  },
  {
   "cell_type": "code",
   "execution_count": 44,
   "id": "885c99ca",
   "metadata": {},
   "outputs": [
    {
     "data": {
      "text/plain": [
       "DOC_IDs\n",
       "1891    [want, boss, train, home, studi, thousand, peo...\n",
       "1892    [messag, mime, format, prefer, doctor, order, ...\n",
       "1893    [dear, subscrib, could, show, way, get, visito...\n",
       "1894    [custom, appreci, sale, express, appreci, loya...\n",
       "1895    [attn, strictli, confidenti, pleas, introduc, ...\n",
       "Name: MESSAGE, dtype: object"
      ]
     },
     "execution_count": 44,
     "metadata": {},
     "output_type": "execute_result"
    }
   ],
   "source": [
    "nested_list_spam.tail()"
   ]
  },
  {
   "cell_type": "code",
   "execution_count": 45,
   "id": "9798a804",
   "metadata": {},
   "outputs": [
    {
     "data": {
      "text/plain": [
       "15733"
      ]
     },
     "execution_count": 45,
     "metadata": {},
     "output_type": "execute_result"
    }
   ],
   "source": [
    "#total no. of words in normal emails in dataset.\n",
    "num_words_ham = [item for sublist in nested_list_ham for item in sublist]\n",
    "normal_words = pd.Series(num_words_ham).value_counts()\n",
    "normal_words.shape[0]\n"
   ]
  },
  {
   "cell_type": "code",
   "execution_count": 46,
   "id": "b6974d52",
   "metadata": {},
   "outputs": [
    {
     "data": {
      "text/plain": [
       "http      8624\n",
       "use       4248\n",
       "list      2772\n",
       "get       2762\n",
       "one       2676\n",
       "mail      2476\n",
       "like      2354\n",
       "would     2284\n",
       "messag    2180\n",
       "time      2154\n",
       "dtype: int64"
      ]
     },
     "execution_count": 46,
     "metadata": {},
     "output_type": "execute_result"
    }
   ],
   "source": [
    "normal_words[:10] #top 10 normal words"
   ]
  },
  {
   "cell_type": "code",
   "execution_count": 47,
   "id": "b6fb81ae",
   "metadata": {},
   "outputs": [
    {
     "data": {
      "text/plain": [
       "13225"
      ]
     },
     "execution_count": 47,
     "metadata": {},
     "output_type": "execute_result"
    }
   ],
   "source": [
    "#total no. of words in spam emails in dataset.\n",
    "num_words_spam =[item for sublist in nested_list_spam for item in sublist]\n",
    "spam_words = pd.Series(num_words_spam).value_counts()\n",
    "spam_words.shape[0]\n",
    "                "
   ]
  },
  {
   "cell_type": "code",
   "execution_count": 48,
   "id": "6291a3b8",
   "metadata": {},
   "outputs": [
    {
     "data": {
      "text/plain": [
       "http      3072\n",
       "email     3061\n",
       "free      2578\n",
       "click     2043\n",
       "receiv    1989\n",
       "list      1952\n",
       "get       1914\n",
       "pleas     1840\n",
       "busi      1791\n",
       "order     1746\n",
       "dtype: int64"
      ]
     },
     "execution_count": 48,
     "metadata": {},
     "output_type": "execute_result"
    }
   ],
   "source": [
    "spam_words[:10]  #top 10 spam words"
   ]
  },
  {
   "cell_type": "markdown",
   "id": "90d171ec",
   "metadata": {},
   "source": [
    "## GENERATING VOCABOLARY AND DICTIONARY"
   ]
  },
  {
   "cell_type": "code",
   "execution_count": 49,
   "id": "c018cd38",
   "metadata": {},
   "outputs": [],
   "source": [
    "stemmed_nested_list = data.MESSAGE.apply(clean_message_no_html)\n",
    "flate_stemmed_list = [item for sublist in stemmed_nested_list for item in sublist]\n"
   ]
  },
  {
   "cell_type": "code",
   "execution_count": 50,
   "id": "641db058",
   "metadata": {},
   "outputs": [
    {
     "data": {
      "text/plain": [
       "839321"
      ]
     },
     "execution_count": 50,
     "metadata": {},
     "output_type": "execute_result"
    }
   ],
   "source": [
    "len(flate_stemmed_list)"
   ]
  },
  {
   "cell_type": "code",
   "execution_count": 51,
   "id": "9cae1dfb",
   "metadata": {},
   "outputs": [
    {
     "name": "stdout",
     "output_type": "stream",
     "text": [
      "no. of unique words 22858\n"
     ]
    },
    {
     "data": {
      "text/plain": [
       "http     11696\n",
       "use       5633\n",
       "list      4724\n",
       "get       4676\n",
       "email     4437\n",
       "dtype: int64"
      ]
     },
     "execution_count": 51,
     "metadata": {},
     "output_type": "execute_result"
    }
   ],
   "source": [
    "unique_words = pd.Series(flate_stemmed_list).value_counts()\n",
    "print('no. of unique words', unique_words.shape[0])\n",
    "unique_words.head()"
   ]
  },
  {
   "cell_type": "code",
   "execution_count": 52,
   "id": "51ec936d",
   "metadata": {},
   "outputs": [
    {
     "name": "stdout",
     "output_type": "stream",
     "text": [
      "most commom words: \n",
      " http     11696\n",
      "use       5633\n",
      "list      4724\n",
      "get       4676\n",
      "email     4437\n",
      "one       4207\n",
      "mail      4187\n",
      "free      3472\n",
      "time      3451\n",
      "like      3188\n",
      "dtype: int64\n"
     ]
    }
   ],
   "source": [
    "##subset of series called 'frequent_words' that only contain most common 2500 words out of total,\n",
    "\n",
    "frequent_words = unique_words[0:VOCAB_SIZE]\n",
    "print('most commom words: \\n', frequent_words[:10])"
   ]
  },
  {
   "cell_type": "markdown",
   "id": "6ed7567d",
   "metadata": {},
   "source": [
    "### Create Vocabolory DataFrame with a  WORD_ID"
   ]
  },
  {
   "cell_type": "code",
   "execution_count": 53,
   "id": "c7a04732",
   "metadata": {},
   "outputs": [
    {
     "data": {
      "text/html": [
       "<div>\n",
       "<style scoped>\n",
       "    .dataframe tbody tr th:only-of-type {\n",
       "        vertical-align: middle;\n",
       "    }\n",
       "\n",
       "    .dataframe tbody tr th {\n",
       "        vertical-align: top;\n",
       "    }\n",
       "\n",
       "    .dataframe thead th {\n",
       "        text-align: right;\n",
       "    }\n",
       "</style>\n",
       "<table border=\"1\" class=\"dataframe\">\n",
       "  <thead>\n",
       "    <tr style=\"text-align: right;\">\n",
       "      <th></th>\n",
       "      <th>VOCAB_WORD</th>\n",
       "    </tr>\n",
       "    <tr>\n",
       "      <th>WORD_ID</th>\n",
       "      <th></th>\n",
       "    </tr>\n",
       "  </thead>\n",
       "  <tbody>\n",
       "    <tr>\n",
       "      <th>0</th>\n",
       "      <td>http</td>\n",
       "    </tr>\n",
       "    <tr>\n",
       "      <th>1</th>\n",
       "      <td>use</td>\n",
       "    </tr>\n",
       "    <tr>\n",
       "      <th>2</th>\n",
       "      <td>list</td>\n",
       "    </tr>\n",
       "    <tr>\n",
       "      <th>3</th>\n",
       "      <td>get</td>\n",
       "    </tr>\n",
       "    <tr>\n",
       "      <th>4</th>\n",
       "      <td>email</td>\n",
       "    </tr>\n",
       "  </tbody>\n",
       "</table>\n",
       "</div>"
      ],
      "text/plain": [
       "        VOCAB_WORD\n",
       "WORD_ID           \n",
       "0             http\n",
       "1              use\n",
       "2             list\n",
       "3              get\n",
       "4            email"
      ]
     },
     "execution_count": 53,
     "metadata": {},
     "output_type": "execute_result"
    }
   ],
   "source": [
    "word_ids = list(range(0, VOCAB_SIZE))\n",
    "vocab = pd.DataFrame({'VOCAB_WORD' : frequent_words.index.values}, index= word_ids)\n",
    "vocab.index.name = 'WORD_ID'   #giving name to to inddex column as word_ids\n",
    "vocab.head()"
   ]
  },
  {
   "cell_type": "code",
   "execution_count": 54,
   "id": "cdcfaf15",
   "metadata": {},
   "outputs": [],
   "source": [
    "# save the vocobolary as csv file\n",
    "vocab.to_csv(WORD_ID_FILE, index_label=vocab.index.name, header= vocab.VOCAB_WORD.name)"
   ]
  },
  {
   "cell_type": "code",
   "execution_count": 55,
   "id": "9b32f990",
   "metadata": {},
   "outputs": [
    {
     "name": "stdout",
     "output_type": "stream",
     "text": [
      "False\n",
      "False\n",
      "False\n",
      "False\n",
      "False\n",
      "False\n",
      "False\n",
      "False\n",
      "False\n"
     ]
    }
   ],
   "source": [
    "#Checking if a word is part of vocabolary\n",
    "\n",
    "v_list = ['machine', 'learning', 'fun', 'learn', 'data', 'science', 'app', 'brewery', 'http']\n",
    "\n",
    "for word in v_list:\n",
    "    if word in vocab.VOCAB_WORD:\n",
    "        print(True)\n",
    "    else: \n",
    "        print(False)"
   ]
  },
  {
   "cell_type": "markdown",
   "id": "0b21d006",
   "metadata": {},
   "source": [
    "### GENERATE FEATURES AND A SPARSE MATRIX\n",
    "### creating a dataframe with one Word per Column"
   ]
  },
  {
   "cell_type": "code",
   "execution_count": 56,
   "id": "2aaace2b",
   "metadata": {},
   "outputs": [
    {
     "data": {
      "text/html": [
       "<div>\n",
       "<style scoped>\n",
       "    .dataframe tbody tr th:only-of-type {\n",
       "        vertical-align: middle;\n",
       "    }\n",
       "\n",
       "    .dataframe tbody tr th {\n",
       "        vertical-align: top;\n",
       "    }\n",
       "\n",
       "    .dataframe thead th {\n",
       "        text-align: right;\n",
       "    }\n",
       "</style>\n",
       "<table border=\"1\" class=\"dataframe\">\n",
       "  <thead>\n",
       "    <tr style=\"text-align: right;\">\n",
       "      <th></th>\n",
       "      <th>0</th>\n",
       "      <th>1</th>\n",
       "      <th>2</th>\n",
       "      <th>3</th>\n",
       "      <th>4</th>\n",
       "      <th>5</th>\n",
       "      <th>6</th>\n",
       "      <th>7</th>\n",
       "      <th>8</th>\n",
       "      <th>9</th>\n",
       "      <th>...</th>\n",
       "      <th>7344</th>\n",
       "      <th>7345</th>\n",
       "      <th>7346</th>\n",
       "      <th>7347</th>\n",
       "      <th>7348</th>\n",
       "      <th>7349</th>\n",
       "      <th>7350</th>\n",
       "      <th>7351</th>\n",
       "      <th>7352</th>\n",
       "      <th>7353</th>\n",
       "    </tr>\n",
       "  </thead>\n",
       "  <tbody>\n",
       "    <tr>\n",
       "      <th>0</th>\n",
       "      <td>save</td>\n",
       "      <td>life</td>\n",
       "      <td>insur</td>\n",
       "      <td>spend</td>\n",
       "      <td>life</td>\n",
       "      <td>quot</td>\n",
       "      <td>save</td>\n",
       "      <td>g</td>\n",
       "      <td>famili</td>\n",
       "      <td>financi</td>\n",
       "      <td>...</td>\n",
       "      <td>None</td>\n",
       "      <td>None</td>\n",
       "      <td>None</td>\n",
       "      <td>None</td>\n",
       "      <td>None</td>\n",
       "      <td>None</td>\n",
       "      <td>None</td>\n",
       "      <td>None</td>\n",
       "      <td>None</td>\n",
       "      <td>None</td>\n",
       "    </tr>\n",
       "    <tr>\n",
       "      <th>1</th>\n",
       "      <td>fight</td>\n",
       "      <td>risk</td>\n",
       "      <td>cancer</td>\n",
       "      <td>http</td>\n",
       "      <td>slim</td>\n",
       "      <td>guarante</td>\n",
       "      <td>lose</td>\n",
       "      <td>lb</td>\n",
       "      <td>day</td>\n",
       "      <td>http</td>\n",
       "      <td>...</td>\n",
       "      <td>None</td>\n",
       "      <td>None</td>\n",
       "      <td>None</td>\n",
       "      <td>None</td>\n",
       "      <td>None</td>\n",
       "      <td>None</td>\n",
       "      <td>None</td>\n",
       "      <td>None</td>\n",
       "      <td>None</td>\n",
       "      <td>None</td>\n",
       "    </tr>\n",
       "    <tr>\n",
       "      <th>2</th>\n",
       "      <td>fight</td>\n",
       "      <td>risk</td>\n",
       "      <td>cancer</td>\n",
       "      <td>http</td>\n",
       "      <td>slim</td>\n",
       "      <td>guarante</td>\n",
       "      <td>lose</td>\n",
       "      <td>lb</td>\n",
       "      <td>day</td>\n",
       "      <td>http</td>\n",
       "      <td>...</td>\n",
       "      <td>None</td>\n",
       "      <td>None</td>\n",
       "      <td>None</td>\n",
       "      <td>None</td>\n",
       "      <td>None</td>\n",
       "      <td>None</td>\n",
       "      <td>None</td>\n",
       "      <td>None</td>\n",
       "      <td>None</td>\n",
       "      <td>None</td>\n",
       "    </tr>\n",
       "    <tr>\n",
       "      <th>3</th>\n",
       "      <td>adult</td>\n",
       "      <td>club</td>\n",
       "      <td>offer</td>\n",
       "      <td>free</td>\n",
       "      <td>membership</td>\n",
       "      <td>instant</td>\n",
       "      <td>access</td>\n",
       "      <td>site</td>\n",
       "      <td>user</td>\n",
       "      <td>name</td>\n",
       "      <td>...</td>\n",
       "      <td>None</td>\n",
       "      <td>None</td>\n",
       "      <td>None</td>\n",
       "      <td>None</td>\n",
       "      <td>None</td>\n",
       "      <td>None</td>\n",
       "      <td>None</td>\n",
       "      <td>None</td>\n",
       "      <td>None</td>\n",
       "      <td>None</td>\n",
       "    </tr>\n",
       "    <tr>\n",
       "      <th>4</th>\n",
       "      <td>thought</td>\n",
       "      <td>might</td>\n",
       "      <td>like</td>\n",
       "      <td>slim</td>\n",
       "      <td>guarante</td>\n",
       "      <td>lose</td>\n",
       "      <td>lb</td>\n",
       "      <td>day</td>\n",
       "      <td>http</td>\n",
       "      <td>fight</td>\n",
       "      <td>...</td>\n",
       "      <td>None</td>\n",
       "      <td>None</td>\n",
       "      <td>None</td>\n",
       "      <td>None</td>\n",
       "      <td>None</td>\n",
       "      <td>None</td>\n",
       "      <td>None</td>\n",
       "      <td>None</td>\n",
       "      <td>None</td>\n",
       "      <td>None</td>\n",
       "    </tr>\n",
       "  </tbody>\n",
       "</table>\n",
       "<p>5 rows × 7354 columns</p>\n",
       "</div>"
      ],
      "text/plain": [
       "      0      1       2      3           4         5       6     7       8     \\\n",
       "0     save   life   insur  spend        life      quot    save     g  famili   \n",
       "1    fight   risk  cancer   http        slim  guarante    lose    lb     day   \n",
       "2    fight   risk  cancer   http        slim  guarante    lose    lb     day   \n",
       "3    adult   club   offer   free  membership   instant  access  site    user   \n",
       "4  thought  might    like   slim    guarante      lose      lb   day    http   \n",
       "\n",
       "      9     ...  7344  7345  7346  7347  7348  7349  7350  7351  7352  7353  \n",
       "0  financi  ...  None  None  None  None  None  None  None  None  None  None  \n",
       "1     http  ...  None  None  None  None  None  None  None  None  None  None  \n",
       "2     http  ...  None  None  None  None  None  None  None  None  None  None  \n",
       "3     name  ...  None  None  None  None  None  None  None  None  None  None  \n",
       "4    fight  ...  None  None  None  None  None  None  None  None  None  None  \n",
       "\n",
       "[5 rows x 7354 columns]"
      ]
     },
     "execution_count": 56,
     "metadata": {},
     "output_type": "execute_result"
    }
   ],
   "source": [
    "word_coulumn_df = pd.DataFrame.from_records(stemmed_nested_list.to_list())\n",
    "word_coulumn_df.head()"
   ]
  },
  {
   "cell_type": "code",
   "execution_count": 57,
   "id": "9598f547",
   "metadata": {},
   "outputs": [
    {
     "data": {
      "text/plain": [
       "(6896, 7354)"
      ]
     },
     "execution_count": 57,
     "metadata": {},
     "output_type": "execute_result"
    }
   ],
   "source": [
    "word_coulumn_df.shape"
   ]
  },
  {
   "cell_type": "markdown",
   "id": "5b5ac7af",
   "metadata": {},
   "source": [
    "### Splitting Data into a Training and Testing Dataset"
   ]
  },
  {
   "cell_type": "code",
   "execution_count": 58,
   "id": "7c1d7707",
   "metadata": {},
   "outputs": [],
   "source": [
    "X_train, X_test, y_train, y_test = train_test_split(word_coulumn_df, data.CATEGORY, test_size= 0.3, random_state=42)\n"
   ]
  },
  {
   "cell_type": "code",
   "execution_count": 59,
   "id": "70afbc15",
   "metadata": {},
   "outputs": [
    {
     "name": "stdout",
     "output_type": "stream",
     "text": [
      "num of training sample 4827\n",
      "fraction of training set 0.6999709976798144\n"
     ]
    }
   ],
   "source": [
    "print('num of training sample', X_train.shape[0])\n",
    "print('fraction of training set', X_train.shape[0] / word_coulumn_df.shape[0])"
   ]
  },
  {
   "cell_type": "code",
   "execution_count": 60,
   "id": "e433f11c",
   "metadata": {},
   "outputs": [
    {
     "data": {
      "text/html": [
       "<div>\n",
       "<style scoped>\n",
       "    .dataframe tbody tr th:only-of-type {\n",
       "        vertical-align: middle;\n",
       "    }\n",
       "\n",
       "    .dataframe tbody tr th {\n",
       "        vertical-align: top;\n",
       "    }\n",
       "\n",
       "    .dataframe thead th {\n",
       "        text-align: right;\n",
       "    }\n",
       "</style>\n",
       "<table border=\"1\" class=\"dataframe\">\n",
       "  <thead>\n",
       "    <tr style=\"text-align: right;\">\n",
       "      <th></th>\n",
       "      <th>0</th>\n",
       "      <th>1</th>\n",
       "      <th>2</th>\n",
       "      <th>3</th>\n",
       "      <th>4</th>\n",
       "      <th>5</th>\n",
       "      <th>6</th>\n",
       "      <th>7</th>\n",
       "      <th>8</th>\n",
       "      <th>9</th>\n",
       "      <th>...</th>\n",
       "      <th>7344</th>\n",
       "      <th>7345</th>\n",
       "      <th>7346</th>\n",
       "      <th>7347</th>\n",
       "      <th>7348</th>\n",
       "      <th>7349</th>\n",
       "      <th>7350</th>\n",
       "      <th>7351</th>\n",
       "      <th>7352</th>\n",
       "      <th>7353</th>\n",
       "    </tr>\n",
       "    <tr>\n",
       "      <th>DOC_ID</th>\n",
       "      <th></th>\n",
       "      <th></th>\n",
       "      <th></th>\n",
       "      <th></th>\n",
       "      <th></th>\n",
       "      <th></th>\n",
       "      <th></th>\n",
       "      <th></th>\n",
       "      <th></th>\n",
       "      <th></th>\n",
       "      <th></th>\n",
       "      <th></th>\n",
       "      <th></th>\n",
       "      <th></th>\n",
       "      <th></th>\n",
       "      <th></th>\n",
       "      <th></th>\n",
       "      <th></th>\n",
       "      <th></th>\n",
       "      <th></th>\n",
       "      <th></th>\n",
       "    </tr>\n",
       "  </thead>\n",
       "  <tbody>\n",
       "    <tr>\n",
       "      <th>1294</th>\n",
       "      <td>stop</td>\n",
       "      <td>pay</td>\n",
       "      <td>adult</td>\n",
       "      <td>site</td>\n",
       "      <td>show</td>\n",
       "      <td>hot</td>\n",
       "      <td>get</td>\n",
       "      <td>free</td>\n",
       "      <td>password</td>\n",
       "      <td>free</td>\n",
       "      <td>...</td>\n",
       "      <td>None</td>\n",
       "      <td>None</td>\n",
       "      <td>None</td>\n",
       "      <td>None</td>\n",
       "      <td>None</td>\n",
       "      <td>None</td>\n",
       "      <td>None</td>\n",
       "      <td>None</td>\n",
       "      <td>None</td>\n",
       "      <td>None</td>\n",
       "    </tr>\n",
       "    <tr>\n",
       "      <th>6472</th>\n",
       "      <td>url</td>\n",
       "      <td>http</td>\n",
       "      <td>date</td>\n",
       "      <td>think</td>\n",
       "      <td>get</td>\n",
       "      <td>new</td>\n",
       "      <td>mac</td>\n",
       "      <td>good</td>\n",
       "      <td>reason</td>\n",
       "      <td>though</td>\n",
       "      <td>...</td>\n",
       "      <td>None</td>\n",
       "      <td>None</td>\n",
       "      <td>None</td>\n",
       "      <td>None</td>\n",
       "      <td>None</td>\n",
       "      <td>None</td>\n",
       "      <td>None</td>\n",
       "      <td>None</td>\n",
       "      <td>None</td>\n",
       "      <td>None</td>\n",
       "    </tr>\n",
       "    <tr>\n",
       "      <th>5792</th>\n",
       "      <td>inlin</td>\n",
       "      <td>mon</td>\n",
       "      <td>sep</td>\n",
       "      <td>justin</td>\n",
       "      <td>mason</td>\n",
       "      <td>wrote</td>\n",
       "      <td>razor</td>\n",
       "      <td>support</td>\n",
       "      <td>fulli</td>\n",
       "      <td>chang</td>\n",
       "      <td>...</td>\n",
       "      <td>None</td>\n",
       "      <td>None</td>\n",
       "      <td>None</td>\n",
       "      <td>None</td>\n",
       "      <td>None</td>\n",
       "      <td>None</td>\n",
       "      <td>None</td>\n",
       "      <td>None</td>\n",
       "      <td>None</td>\n",
       "      <td>None</td>\n",
       "    </tr>\n",
       "    <tr>\n",
       "      <th>6438</th>\n",
       "      <td>url</td>\n",
       "      <td>http</td>\n",
       "      <td>date</td>\n",
       "      <td>media</td>\n",
       "      <td>took</td>\n",
       "      <td>one</td>\n",
       "      <td>column</td>\n",
       "      <td>newspap</td>\n",
       "      <td>rod</td>\n",
       "      <td>liddl</td>\n",
       "      <td>...</td>\n",
       "      <td>None</td>\n",
       "      <td>None</td>\n",
       "      <td>None</td>\n",
       "      <td>None</td>\n",
       "      <td>None</td>\n",
       "      <td>None</td>\n",
       "      <td>None</td>\n",
       "      <td>None</td>\n",
       "      <td>None</td>\n",
       "      <td>None</td>\n",
       "    </tr>\n",
       "    <tr>\n",
       "      <th>4922</th>\n",
       "      <td>begin</td>\n",
       "      <td>forward</td>\n",
       "      <td>text</td>\n",
       "      <td>prioriti</td>\n",
       "      <td>normal</td>\n",
       "      <td>date</td>\n",
       "      <td>mon</td>\n",
       "      <td>sep</td>\n",
       "      <td>law</td>\n",
       "      <td>polici</td>\n",
       "      <td>...</td>\n",
       "      <td>None</td>\n",
       "      <td>None</td>\n",
       "      <td>None</td>\n",
       "      <td>None</td>\n",
       "      <td>None</td>\n",
       "      <td>None</td>\n",
       "      <td>None</td>\n",
       "      <td>None</td>\n",
       "      <td>None</td>\n",
       "      <td>None</td>\n",
       "    </tr>\n",
       "  </tbody>\n",
       "</table>\n",
       "<p>5 rows × 7354 columns</p>\n",
       "</div>"
      ],
      "text/plain": [
       "         0        1      2         3       4      5       6        7     \\\n",
       "DOC_ID                                                                    \n",
       "1294     stop      pay  adult      site    show    hot     get     free   \n",
       "6472      url     http   date     think     get    new     mac     good   \n",
       "5792    inlin      mon    sep    justin   mason  wrote   razor  support   \n",
       "6438      url     http   date     media    took    one  column  newspap   \n",
       "4922    begin  forward   text  prioriti  normal   date     mon      sep   \n",
       "\n",
       "            8       9     ...  7344  7345  7346  7347  7348  7349  7350  7351  \\\n",
       "DOC_ID                    ...                                                   \n",
       "1294    password    free  ...  None  None  None  None  None  None  None  None   \n",
       "6472      reason  though  ...  None  None  None  None  None  None  None  None   \n",
       "5792       fulli   chang  ...  None  None  None  None  None  None  None  None   \n",
       "6438         rod   liddl  ...  None  None  None  None  None  None  None  None   \n",
       "4922         law  polici  ...  None  None  None  None  None  None  None  None   \n",
       "\n",
       "        7352  7353  \n",
       "DOC_ID              \n",
       "1294    None  None  \n",
       "6472    None  None  \n",
       "5792    None  None  \n",
       "6438    None  None  \n",
       "4922    None  None  \n",
       "\n",
       "[5 rows x 7354 columns]"
      ]
     },
     "execution_count": 60,
     "metadata": {},
     "output_type": "execute_result"
    }
   ],
   "source": [
    "X_train.index.name = X_test.index.name = 'DOC_ID'\n",
    "X_train.head()"
   ]
  },
  {
   "cell_type": "code",
   "execution_count": 61,
   "id": "58bce992",
   "metadata": {},
   "outputs": [
    {
     "data": {
      "text/plain": [
       "DOC_IDs\n",
       "1294    1\n",
       "6472    0\n",
       "5792    0\n",
       "6438    0\n",
       "4922    0\n",
       "Name: CATEGORY, dtype: int64"
      ]
     },
     "execution_count": 61,
     "metadata": {},
     "output_type": "execute_result"
    }
   ],
   "source": [
    "y_train.head()"
   ]
  },
  {
   "cell_type": "code",
   "execution_count": 62,
   "id": "d9a1a10c",
   "metadata": {},
   "outputs": [
    {
     "data": {
      "text/plain": [
       "str"
      ]
     },
     "execution_count": 62,
     "metadata": {},
     "output_type": "execute_result"
    }
   ],
   "source": [
    "### Create a Sparse Matrix for the Training Data\n",
    "\n",
    "word_index = pd.Index(vocab.VOCAB_WORD)\n",
    "type(word_index[3])"
   ]
  },
  {
   "cell_type": "code",
   "execution_count": 63,
   "id": "6aaa0fcd",
   "metadata": {},
   "outputs": [],
   "source": [
    "def make_sparse_matrix(df, indexed_words, labels):\n",
    "    \"\"\"\n",
    "    \n",
    "    return sparse marix as dataframe\n",
    "    \n",
    "    df: A DataFrame with the words in the columns with document id as an index (X_train or X_test)\n",
    "    indexed_words: index of words ordered by word id\n",
    "    labels: category as series (y_train, y_test)\n",
    "    \n",
    "    \"\"\"\n",
    "    num_rows = df.shape[0]\n",
    "    num_cols = df.shape[1]\n",
    "    word_set = set(indexed_words)\n",
    "    dict_list = []\n",
    "    \n",
    "    for i in range((num_rows)):\n",
    "        for j in range(num_cols):\n",
    "            \n",
    "            word = df.iat[i, j]\n",
    "            if word in word_set:\n",
    "                doc_id = df.index[i]\n",
    "                word_id = indexed_words.get_loc(word)\n",
    "                category = labels.at[doc_id]\n",
    "                \n",
    "                item = {'Label': category, 'DOC_ID': doc_id, 'OCCURENCE': 1, 'WORD_ID': word_id}\n",
    "                \n",
    "                dict_list.append(item)\n",
    "                \n",
    "    return pd.DataFrame(dict_list)\n",
    "                \n",
    "    \n",
    "    "
   ]
  },
  {
   "cell_type": "code",
   "execution_count": 64,
   "id": "d80c1eb4",
   "metadata": {},
   "outputs": [
    {
     "name": "stdout",
     "output_type": "stream",
     "text": [
      "Wall time: 15min 21s\n"
     ]
    }
   ],
   "source": [
    "%%time\n",
    "\n",
    "sparse_train_df = make_sparse_matrix(X_train, word_index, y_train)\n"
   ]
  },
  {
   "cell_type": "code",
   "execution_count": 65,
   "id": "133cec7d",
   "metadata": {},
   "outputs": [
    {
     "data": {
      "text/html": [
       "<div>\n",
       "<style scoped>\n",
       "    .dataframe tbody tr th:only-of-type {\n",
       "        vertical-align: middle;\n",
       "    }\n",
       "\n",
       "    .dataframe tbody tr th {\n",
       "        vertical-align: top;\n",
       "    }\n",
       "\n",
       "    .dataframe thead th {\n",
       "        text-align: right;\n",
       "    }\n",
       "</style>\n",
       "<table border=\"1\" class=\"dataframe\">\n",
       "  <thead>\n",
       "    <tr style=\"text-align: right;\">\n",
       "      <th></th>\n",
       "      <th>Label</th>\n",
       "      <th>DOC_ID</th>\n",
       "      <th>OCCURENCE</th>\n",
       "      <th>WORD_ID</th>\n",
       "    </tr>\n",
       "  </thead>\n",
       "  <tbody>\n",
       "    <tr>\n",
       "      <th>0</th>\n",
       "      <td>1</td>\n",
       "      <td>1294</td>\n",
       "      <td>1</td>\n",
       "      <td>334</td>\n",
       "    </tr>\n",
       "    <tr>\n",
       "      <th>1</th>\n",
       "      <td>1</td>\n",
       "      <td>1294</td>\n",
       "      <td>1</td>\n",
       "      <td>231</td>\n",
       "    </tr>\n",
       "    <tr>\n",
       "      <th>2</th>\n",
       "      <td>1</td>\n",
       "      <td>1294</td>\n",
       "      <td>1</td>\n",
       "      <td>1096</td>\n",
       "    </tr>\n",
       "    <tr>\n",
       "      <th>3</th>\n",
       "      <td>1</td>\n",
       "      <td>1294</td>\n",
       "      <td>1</td>\n",
       "      <td>54</td>\n",
       "    </tr>\n",
       "    <tr>\n",
       "      <th>4</th>\n",
       "      <td>1</td>\n",
       "      <td>1294</td>\n",
       "      <td>1</td>\n",
       "      <td>196</td>\n",
       "    </tr>\n",
       "  </tbody>\n",
       "</table>\n",
       "</div>"
      ],
      "text/plain": [
       "   Label  DOC_ID  OCCURENCE  WORD_ID\n",
       "0      1    1294          1      334\n",
       "1      1    1294          1      231\n",
       "2      1    1294          1     1096\n",
       "3      1    1294          1       54\n",
       "4      1    1294          1      196"
      ]
     },
     "execution_count": 65,
     "metadata": {},
     "output_type": "execute_result"
    }
   ],
   "source": [
    "sparse_train_df[:5]"
   ]
  },
  {
   "cell_type": "code",
   "execution_count": 66,
   "id": "03b119a3",
   "metadata": {},
   "outputs": [
    {
     "data": {
      "text/html": [
       "<div>\n",
       "<style scoped>\n",
       "    .dataframe tbody tr th:only-of-type {\n",
       "        vertical-align: middle;\n",
       "    }\n",
       "\n",
       "    .dataframe tbody tr th {\n",
       "        vertical-align: top;\n",
       "    }\n",
       "\n",
       "    .dataframe thead th {\n",
       "        text-align: right;\n",
       "    }\n",
       "</style>\n",
       "<table border=\"1\" class=\"dataframe\">\n",
       "  <thead>\n",
       "    <tr style=\"text-align: right;\">\n",
       "      <th></th>\n",
       "      <th>Label</th>\n",
       "      <th>DOC_ID</th>\n",
       "      <th>OCCURENCE</th>\n",
       "      <th>WORD_ID</th>\n",
       "    </tr>\n",
       "  </thead>\n",
       "  <tbody>\n",
       "    <tr>\n",
       "      <th>479121</th>\n",
       "      <td>1</td>\n",
       "      <td>860</td>\n",
       "      <td>1</td>\n",
       "      <td>52</td>\n",
       "    </tr>\n",
       "    <tr>\n",
       "      <th>479122</th>\n",
       "      <td>1</td>\n",
       "      <td>860</td>\n",
       "      <td>1</td>\n",
       "      <td>1450</td>\n",
       "    </tr>\n",
       "    <tr>\n",
       "      <th>479123</th>\n",
       "      <td>1</td>\n",
       "      <td>860</td>\n",
       "      <td>1</td>\n",
       "      <td>30</td>\n",
       "    </tr>\n",
       "    <tr>\n",
       "      <th>479124</th>\n",
       "      <td>1</td>\n",
       "      <td>860</td>\n",
       "      <td>1</td>\n",
       "      <td>22</td>\n",
       "    </tr>\n",
       "    <tr>\n",
       "      <th>479125</th>\n",
       "      <td>1</td>\n",
       "      <td>860</td>\n",
       "      <td>1</td>\n",
       "      <td>126</td>\n",
       "    </tr>\n",
       "  </tbody>\n",
       "</table>\n",
       "</div>"
      ],
      "text/plain": [
       "        Label  DOC_ID  OCCURENCE  WORD_ID\n",
       "479121      1     860          1       52\n",
       "479122      1     860          1     1450\n",
       "479123      1     860          1       30\n",
       "479124      1     860          1       22\n",
       "479125      1     860          1      126"
      ]
     },
     "execution_count": 66,
     "metadata": {},
     "output_type": "execute_result"
    }
   ],
   "source": [
    "sparse_train_df[-5:]"
   ]
  },
  {
   "cell_type": "code",
   "execution_count": 67,
   "id": "981efebd",
   "metadata": {},
   "outputs": [
    {
     "data": {
      "text/html": [
       "<div>\n",
       "<style scoped>\n",
       "    .dataframe tbody tr th:only-of-type {\n",
       "        vertical-align: middle;\n",
       "    }\n",
       "\n",
       "    .dataframe tbody tr th {\n",
       "        vertical-align: top;\n",
       "    }\n",
       "\n",
       "    .dataframe thead th {\n",
       "        text-align: right;\n",
       "    }\n",
       "</style>\n",
       "<table border=\"1\" class=\"dataframe\">\n",
       "  <thead>\n",
       "    <tr style=\"text-align: right;\">\n",
       "      <th></th>\n",
       "      <th></th>\n",
       "      <th></th>\n",
       "      <th>OCCURENCE</th>\n",
       "    </tr>\n",
       "    <tr>\n",
       "      <th>DOC_ID</th>\n",
       "      <th>WORD_ID</th>\n",
       "      <th>Label</th>\n",
       "      <th></th>\n",
       "    </tr>\n",
       "  </thead>\n",
       "  <tbody>\n",
       "    <tr>\n",
       "      <th rowspan=\"5\" valign=\"top\">0</th>\n",
       "      <th>2</th>\n",
       "      <th>1</th>\n",
       "      <td>1</td>\n",
       "    </tr>\n",
       "    <tr>\n",
       "      <th>3</th>\n",
       "      <th>1</th>\n",
       "      <td>1</td>\n",
       "    </tr>\n",
       "    <tr>\n",
       "      <th>4</th>\n",
       "      <th>1</th>\n",
       "      <td>1</td>\n",
       "    </tr>\n",
       "    <tr>\n",
       "      <th>7</th>\n",
       "      <th>1</th>\n",
       "      <td>3</td>\n",
       "    </tr>\n",
       "    <tr>\n",
       "      <th>14</th>\n",
       "      <th>1</th>\n",
       "      <td>1</td>\n",
       "    </tr>\n",
       "  </tbody>\n",
       "</table>\n",
       "</div>"
      ],
      "text/plain": [
       "                      OCCURENCE\n",
       "DOC_ID WORD_ID Label           \n",
       "0      2       1              1\n",
       "       3       1              1\n",
       "       4       1              1\n",
       "       7       1              3\n",
       "       14      1              1"
      ]
     },
     "execution_count": 67,
     "metadata": {},
     "output_type": "execute_result"
    }
   ],
   "source": [
    "# Combine Occurences with pandas groupby() method\n",
    "train_grouped = sparse_train_df.groupby(['DOC_ID', 'WORD_ID', 'Label']).sum()\n",
    "train_grouped.head()\n",
    "\n"
   ]
  },
  {
   "cell_type": "code",
   "execution_count": 68,
   "id": "effecb7a",
   "metadata": {},
   "outputs": [
    {
     "data": {
      "text/plain": [
       "'http'"
      ]
     },
     "execution_count": 68,
     "metadata": {},
     "output_type": "execute_result"
    }
   ],
   "source": [
    "vocab.at[0, 'VOCAB_WORD']"
   ]
  },
  {
   "cell_type": "code",
   "execution_count": 69,
   "id": "54720c6b",
   "metadata": {},
   "outputs": [
    {
     "data": {
      "text/plain": [
       "'<!DOCTYPE HTML PUBLIC \"-//W3C//DTD HTML 4.0 Transitional//EN\">\\n\\n<HTML><HEAD>\\n\\n<META content=3D\"text/html; charset=3Dwindows-1252\" http-equiv=3DContent-T=\\n\\nype>\\n\\n<META content=3D\"MSHTML 5.00.2314.1000\" name=3DGENERATOR></HEAD>\\n\\n<BODY><!-- Inserted by Calypso -->\\n\\n<TABLE border=3D0 cellPadding=3D0 cellSpacing=3D2 id=3D_CalyPrintHeader_ r=\\n\\nules=3Dnone \\n\\nstyle=3D\"COLOR: black; DISPLAY: none\" width=3D\"100%\">\\n\\n  <TBODY>\\n\\n  <TR>\\n\\n    <TD colSpan=3D3>\\n\\n      <HR color=3Dblack noShade SIZE=3D1>\\n\\n    </TD></TR></TD></TR>\\n\\n  <TR>\\n\\n    <TD colSpan=3D3>\\n\\n      <HR color=3Dblack noShade SIZE=3D1>\\n\\n    </TD></TR></TBODY></TABLE><!-- End Calypso --><!-- Inserted by Calypso=\\n\\n --><FONT \\n\\ncolor=3D#000000 face=3DVERDANA,ARIAL,HELVETICA size=3D-2><BR></FONT></TD><=\\n\\n/TR></TABLE><!-- End Calypso --><FONT color=3D#ff0000 \\n\\nface=3D\"Copperplate Gothic Bold\" size=3D5 PTSIZE=3D\"10\">\\n\\n<CENTER>Save up to 70% on Life Insurance.</CENTER></FONT><FONT color=3D#ff=\\n\\n0000 \\n\\nface=3D\"Copperplate Gothic Bold\" size=3D5 PTSIZE=3D\"10\">\\n\\n<CENTER>Why Spend More Than You Have To?\\n\\n<CENTER><FONT color=3D#ff0000 face=3D\"Copperplate Gothic Bold\" size=3D5 PT=\\n\\nSIZE=3D\"10\">\\n\\n<CENTER>Life Quote Savings\\n\\n<CENTER>\\n\\n<P align=3Dleft></P>\\n\\n<P align=3Dleft></P></FONT></U></I></B><BR></FONT></U></B></U></I>\\n\\n<P></P>\\n\\n<CENTER>\\n\\n<TABLE border=3D0 borderColor=3D#111111 cellPadding=3D0 cellSpacing=3D0 wi=\\n\\ndth=3D650>\\n\\n  <TBODY></TBODY></TABLE>\\n\\n<TABLE border=3D0 borderColor=3D#111111 cellPadding=3D5 cellSpacing=3D0 wi=\\n\\ndth=3D650>\\n\\n  <TBODY>\\n\\n  <TR>\\n\\n    <TD colSpan=3D2 width=3D\"35%\"><B><FONT face=3DVerdana size=3D4>Ensurin=\\n\\ng your \\n\\n      family\\'s financial security is very important. Life Quote Savings ma=\\n\\nkes \\n\\n      buying life insurance simple and affordable. We Provide FREE Access =\\n\\nto The \\n\\n      Very Best Companies and The Lowest Rates.</FONT></B></TD></TR>\\n\\n  <TR>\\n\\n    <TD align=3Dmiddle vAlign=3Dtop width=3D\"18%\">\\n\\n      <TABLE borderColor=3D#111111 width=3D\"100%\">\\n\\n        <TBODY>\\n\\n        <TR>\\n\\n          <TD style=3D\"PADDING-LEFT: 5px; PADDING-RIGHT: 5px\" width=3D\"100=\\n\\n%\"><FONT \\n\\n            face=3DVerdana size=3D4><B>Life Quote Savings</B> is FAST, EAS=\\n\\nY and \\n\\n            SAVES you money! Let us help you get started with the best val=\\n\\nues in \\n\\n            the country on new coverage. You can SAVE hundreds or even tho=\\n\\nusands \\n\\n            of dollars by requesting a FREE quote from Lifequote Savings. =\\n\\nOur \\n\\n            service will take you less than 5 minutes to complete. Shop an=\\n\\nd \\n\\n            compare. SAVE up to 70% on all types of Life insurance! \\n\\n</FONT></TD></TR>\\n\\n        <TR><BR><BR>\\n\\n          <TD height=3D50 style=3D\"PADDING-LEFT: 5px; PADDING-RIGHT: 5px\" \\n\\n          width=3D\"100%\">\\n\\n            <P align=3Dcenter><B><FONT face=3DVerdana size=3D5><A \\n\\n            href=3D\"http://website.e365.cc/savequote/\">Click Here For Your=\\n\\n \\n\\n            Free Quote!</A></FONT></B></P></TD>\\n\\n          <P><FONT face=3DVerdana size=3D4><STRONG>\\n\\n          <CENTER>Protecting your family is the best investment you\\'ll eve=\\n\\nr \\n\\n          make!<BR></B></TD></TR>\\n\\n        <TR><BR><BR></STRONG></FONT></TD></TR></TD></TR>\\n\\n        <TR></TR></TBODY></TABLE>\\n\\n      <P align=3Dleft><FONT face=3D\"Arial, Helvetica, sans-serif\" size=3D2=\\n\\n></FONT></P>\\n\\n      <P></P>\\n\\n      <CENTER><BR><BR><BR>\\n\\n      <P></P>\\n\\n      <P align=3Dleft><BR></B><BR><BR><BR><BR></P>\\n\\n      <P align=3Dcenter><BR></P>\\n\\n      <P align=3Dleft><BR></B><BR><BR></FONT>If you are in receipt of this=\\n\\n email \\n\\n      in error and/or wish to be removed from our list, <A \\n\\n      href=3D\"mailto:coins@btamail.net.cn\">PLEASE CLICK HERE</A> AND TYPE =\\n\\nREMOVE. If you \\n\\n      reside in any state which prohibits e-mail solicitations for insuran=\\n\\nce, \\n\\n      please disregard this \\n\\n      email.<BR></FONT><BR><BR><BR><BR><BR><BR><BR><BR><BR><BR><BR><BR><BR=\\n\\n><BR><BR><BR></FONT></P></CENTER></CENTER></TR></TBODY></TABLE></CENTER></=\\n\\nCENTER></CENTER></CENTER></CENTER></BODY></HTML>\\n\\n\\n\\n\\n\\n\\n'"
      ]
     },
     "execution_count": 69,
     "metadata": {},
     "output_type": "execute_result"
    }
   ],
   "source": [
    "data.MESSAGE[0]"
   ]
  },
  {
   "cell_type": "code",
   "execution_count": 70,
   "id": "28ff0f97",
   "metadata": {},
   "outputs": [
    {
     "data": {
      "text/html": [
       "<div>\n",
       "<style scoped>\n",
       "    .dataframe tbody tr th:only-of-type {\n",
       "        vertical-align: middle;\n",
       "    }\n",
       "\n",
       "    .dataframe tbody tr th {\n",
       "        vertical-align: top;\n",
       "    }\n",
       "\n",
       "    .dataframe thead th {\n",
       "        text-align: right;\n",
       "    }\n",
       "</style>\n",
       "<table border=\"1\" class=\"dataframe\">\n",
       "  <thead>\n",
       "    <tr style=\"text-align: right;\">\n",
       "      <th></th>\n",
       "      <th>DOC_ID</th>\n",
       "      <th>WORD_ID</th>\n",
       "      <th>Label</th>\n",
       "      <th>OCCURENCE</th>\n",
       "    </tr>\n",
       "  </thead>\n",
       "  <tbody>\n",
       "    <tr>\n",
       "      <th>0</th>\n",
       "      <td>0</td>\n",
       "      <td>2</td>\n",
       "      <td>1</td>\n",
       "      <td>1</td>\n",
       "    </tr>\n",
       "    <tr>\n",
       "      <th>1</th>\n",
       "      <td>0</td>\n",
       "      <td>3</td>\n",
       "      <td>1</td>\n",
       "      <td>1</td>\n",
       "    </tr>\n",
       "    <tr>\n",
       "      <th>2</th>\n",
       "      <td>0</td>\n",
       "      <td>4</td>\n",
       "      <td>1</td>\n",
       "      <td>1</td>\n",
       "    </tr>\n",
       "    <tr>\n",
       "      <th>3</th>\n",
       "      <td>0</td>\n",
       "      <td>7</td>\n",
       "      <td>1</td>\n",
       "      <td>3</td>\n",
       "    </tr>\n",
       "    <tr>\n",
       "      <th>4</th>\n",
       "      <td>0</td>\n",
       "      <td>14</td>\n",
       "      <td>1</td>\n",
       "      <td>1</td>\n",
       "    </tr>\n",
       "  </tbody>\n",
       "</table>\n",
       "</div>"
      ],
      "text/plain": [
       "   DOC_ID  WORD_ID  Label  OCCURENCE\n",
       "0       0        2      1          1\n",
       "1       0        3      1          1\n",
       "2       0        4      1          1\n",
       "3       0        7      1          3\n",
       "4       0       14      1          1"
      ]
     },
     "execution_count": 70,
     "metadata": {},
     "output_type": "execute_result"
    }
   ],
   "source": [
    "train_grouped = train_grouped.reset_index()\n",
    "train_grouped.head()"
   ]
  },
  {
   "cell_type": "code",
   "execution_count": 71,
   "id": "829b7c35",
   "metadata": {},
   "outputs": [
    {
     "data": {
      "text/html": [
       "<div>\n",
       "<style scoped>\n",
       "    .dataframe tbody tr th:only-of-type {\n",
       "        vertical-align: middle;\n",
       "    }\n",
       "\n",
       "    .dataframe tbody tr th {\n",
       "        vertical-align: top;\n",
       "    }\n",
       "\n",
       "    .dataframe thead th {\n",
       "        text-align: right;\n",
       "    }\n",
       "</style>\n",
       "<table border=\"1\" class=\"dataframe\">\n",
       "  <thead>\n",
       "    <tr style=\"text-align: right;\">\n",
       "      <th></th>\n",
       "      <th>DOC_ID</th>\n",
       "      <th>WORD_ID</th>\n",
       "      <th>Label</th>\n",
       "      <th>OCCURENCE</th>\n",
       "    </tr>\n",
       "  </thead>\n",
       "  <tbody>\n",
       "    <tr>\n",
       "      <th>292815</th>\n",
       "      <td>6895</td>\n",
       "      <td>2182</td>\n",
       "      <td>0</td>\n",
       "      <td>1</td>\n",
       "    </tr>\n",
       "    <tr>\n",
       "      <th>292816</th>\n",
       "      <td>6895</td>\n",
       "      <td>2202</td>\n",
       "      <td>0</td>\n",
       "      <td>2</td>\n",
       "    </tr>\n",
       "    <tr>\n",
       "      <th>292817</th>\n",
       "      <td>6895</td>\n",
       "      <td>2236</td>\n",
       "      <td>0</td>\n",
       "      <td>1</td>\n",
       "    </tr>\n",
       "    <tr>\n",
       "      <th>292818</th>\n",
       "      <td>6895</td>\n",
       "      <td>2280</td>\n",
       "      <td>0</td>\n",
       "      <td>1</td>\n",
       "    </tr>\n",
       "    <tr>\n",
       "      <th>292819</th>\n",
       "      <td>6895</td>\n",
       "      <td>2327</td>\n",
       "      <td>0</td>\n",
       "      <td>1</td>\n",
       "    </tr>\n",
       "  </tbody>\n",
       "</table>\n",
       "</div>"
      ],
      "text/plain": [
       "        DOC_ID  WORD_ID  Label  OCCURENCE\n",
       "292815    6895     2182      0          1\n",
       "292816    6895     2202      0          2\n",
       "292817    6895     2236      0          1\n",
       "292818    6895     2280      0          1\n",
       "292819    6895     2327      0          1"
      ]
     },
     "execution_count": 71,
     "metadata": {},
     "output_type": "execute_result"
    }
   ],
   "source": [
    "train_grouped.tail()"
   ]
  },
  {
   "cell_type": "code",
   "execution_count": 72,
   "id": "eaa43979",
   "metadata": {},
   "outputs": [
    {
     "data": {
      "text/plain": [
       "'highest'"
      ]
     },
     "execution_count": 72,
     "metadata": {},
     "output_type": "execute_result"
    }
   ],
   "source": [
    "vocab.at[1698, 'VOCAB_WORD'] #TO know thw word a positin world_id of 1698\n"
   ]
  },
  {
   "cell_type": "code",
   "execution_count": 73,
   "id": "a93844e6",
   "metadata": {},
   "outputs": [
    {
     "data": {
      "text/plain": [
       "\"\\n\\nHi,\\n\\n\\n\\nI think you need to give us a little more detailed information.\\n\\n\\n\\nOn Wed, 04 Dec 2002, Gianni Ponzi wrote:\\n\\n\\n\\n> I have a prob when trying to install Linux (tried RedHat, Suse) on my\\n\\n> laptop. \\n\\n\\n\\nYou get _exactly_ the same problem with Suse and RedHat, is that right?\\n\\nWhat versions of these have you used?\\n\\n\\n\\n> I can start the install but after about 2min, the whole pc just\\n\\n> dies.\\n\\n\\n\\nAs in freezes, reboots?  Do you get any errors?\\n\\n\\n\\n> I know it's not a Linux prob and here is what I have encountered:\\n\\n> \\n\\n> I had the same problem when installing Win on it and eventually sorted it\\n\\n> out by disabling the infrared port. \\n\\n\\n\\nDid you disable it in the BIOS or in windows?\\n\\n\\n\\n> I'm guessing this might be same prob although I'm not sure. I am very new\\n\\n> to Linux so it's not that easy for me to work it out. I did manage to\\n\\n> follow the setup procedure at one stage (using images on disks) and it\\n\\n> cuts out either as it's trying to verify what CD-Rom I have or just after\\n\\n> (hence my suspicion of the infrared port again).\\n\\n\\n\\n1. What laptop is it?  What is the Processor and how much RAM does it have?\\n\\n\\n\\n2. You cannot simply boot off the cdrom?  It must be quite an old laptop\\n\\nthen or else cdrom booting is disabled in the BIOS.  Is the cdrom external\\n\\nor strange in some way?\\n\\n\\n\\nGavin\\n\\n\\n\\n-- \\n\\nIrish Linux Users' Group: ilug@linux.ie\\n\\nhttp://www.linux.ie/mailman/listinfo/ilug for (un)subscription information.\\n\\nList maintainer: listmaster@linux.ie\\n\\n\\n\\n\\n\""
      ]
     },
     "execution_count": 73,
     "metadata": {},
     "output_type": "execute_result"
    }
   ],
   "source": [
    "data.MESSAGE[6895]"
   ]
  },
  {
   "cell_type": "code",
   "execution_count": 74,
   "id": "210c9835",
   "metadata": {},
   "outputs": [
    {
     "data": {
      "text/plain": [
       "(292820, 4)"
      ]
     },
     "execution_count": 74,
     "metadata": {},
     "output_type": "execute_result"
    }
   ],
   "source": [
    "train_grouped.shape"
   ]
  },
  {
   "cell_type": "code",
   "execution_count": 75,
   "id": "c41566ca",
   "metadata": {},
   "outputs": [],
   "source": [
    "## Save Training Data as .txt File\n",
    "np.savetxt(TRAINING_DATA_FILE, train_grouped, fmt= '%d')"
   ]
  },
  {
   "cell_type": "code",
   "execution_count": 76,
   "id": "682269de",
   "metadata": {},
   "outputs": [
    {
     "data": {
      "text/plain": [
       "Index(['DOC_ID', 'WORD_ID', 'Label', 'OCCURENCE'], dtype='object')"
      ]
     },
     "execution_count": 76,
     "metadata": {},
     "output_type": "execute_result"
    }
   ],
   "source": [
    "train_grouped.columns"
   ]
  },
  {
   "cell_type": "code",
   "execution_count": 77,
   "id": "54bcc772",
   "metadata": {},
   "outputs": [
    {
     "data": {
      "text/html": [
       "<div>\n",
       "<style scoped>\n",
       "    .dataframe tbody tr th:only-of-type {\n",
       "        vertical-align: middle;\n",
       "    }\n",
       "\n",
       "    .dataframe tbody tr th {\n",
       "        vertical-align: top;\n",
       "    }\n",
       "\n",
       "    .dataframe thead th {\n",
       "        text-align: right;\n",
       "    }\n",
       "</style>\n",
       "<table border=\"1\" class=\"dataframe\">\n",
       "  <thead>\n",
       "    <tr style=\"text-align: right;\">\n",
       "      <th></th>\n",
       "      <th>0</th>\n",
       "      <th>1</th>\n",
       "      <th>2</th>\n",
       "      <th>3</th>\n",
       "      <th>4</th>\n",
       "      <th>5</th>\n",
       "      <th>6</th>\n",
       "      <th>7</th>\n",
       "      <th>8</th>\n",
       "      <th>9</th>\n",
       "      <th>...</th>\n",
       "      <th>7344</th>\n",
       "      <th>7345</th>\n",
       "      <th>7346</th>\n",
       "      <th>7347</th>\n",
       "      <th>7348</th>\n",
       "      <th>7349</th>\n",
       "      <th>7350</th>\n",
       "      <th>7351</th>\n",
       "      <th>7352</th>\n",
       "      <th>7353</th>\n",
       "    </tr>\n",
       "    <tr>\n",
       "      <th>DOC_ID</th>\n",
       "      <th></th>\n",
       "      <th></th>\n",
       "      <th></th>\n",
       "      <th></th>\n",
       "      <th></th>\n",
       "      <th></th>\n",
       "      <th></th>\n",
       "      <th></th>\n",
       "      <th></th>\n",
       "      <th></th>\n",
       "      <th></th>\n",
       "      <th></th>\n",
       "      <th></th>\n",
       "      <th></th>\n",
       "      <th></th>\n",
       "      <th></th>\n",
       "      <th></th>\n",
       "      <th></th>\n",
       "      <th></th>\n",
       "      <th></th>\n",
       "      <th></th>\n",
       "    </tr>\n",
       "  </thead>\n",
       "  <tbody>\n",
       "    <tr>\n",
       "      <th>852</th>\n",
       "      <td>freightmart</td>\n",
       "      <td>mail</td>\n",
       "      <td>campaign</td>\n",
       "      <td>ship</td>\n",
       "      <td>anyth</td>\n",
       "      <td>anywher</td>\n",
       "      <td>anytim</td>\n",
       "      <td>auction</td>\n",
       "      <td>style</td>\n",
       "      <td>need</td>\n",
       "      <td>...</td>\n",
       "      <td>None</td>\n",
       "      <td>None</td>\n",
       "      <td>None</td>\n",
       "      <td>None</td>\n",
       "      <td>None</td>\n",
       "      <td>None</td>\n",
       "      <td>None</td>\n",
       "      <td>None</td>\n",
       "      <td>None</td>\n",
       "      <td>None</td>\n",
       "    </tr>\n",
       "    <tr>\n",
       "      <th>3698</th>\n",
       "      <td>use</td>\n",
       "      <td>perl</td>\n",
       "      <td>daili</td>\n",
       "      <td>newslett</td>\n",
       "      <td>issu</td>\n",
       "      <td>week</td>\n",
       "      <td>septemb</td>\n",
       "      <td>great</td>\n",
       "      <td>perl</td>\n",
       "      <td>monger</td>\n",
       "      <td>...</td>\n",
       "      <td>None</td>\n",
       "      <td>None</td>\n",
       "      <td>None</td>\n",
       "      <td>None</td>\n",
       "      <td>None</td>\n",
       "      <td>None</td>\n",
       "      <td>None</td>\n",
       "      <td>None</td>\n",
       "      <td>None</td>\n",
       "      <td>None</td>\n",
       "    </tr>\n",
       "    <tr>\n",
       "      <th>3023</th>\n",
       "      <td>oop</td>\n",
       "      <td>turn</td>\n",
       "      <td>care</td>\n",
       "      <td>instal</td>\n",
       "      <td>exmh</td>\n",
       "      <td>librari</td>\n",
       "      <td>variabl</td>\n",
       "      <td>point</td>\n",
       "      <td>old</td>\n",
       "      <td>instal</td>\n",
       "      <td>...</td>\n",
       "      <td>None</td>\n",
       "      <td>None</td>\n",
       "      <td>None</td>\n",
       "      <td>None</td>\n",
       "      <td>None</td>\n",
       "      <td>None</td>\n",
       "      <td>None</td>\n",
       "      <td>None</td>\n",
       "      <td>None</td>\n",
       "      <td>None</td>\n",
       "    </tr>\n",
       "    <tr>\n",
       "      <th>2840</th>\n",
       "      <td>robert</td>\n",
       "      <td>elz</td>\n",
       "      <td>date</td>\n",
       "      <td>sat</td>\n",
       "      <td>aug</td>\n",
       "      <td>date</td>\n",
       "      <td>thu</td>\n",
       "      <td>aug</td>\n",
       "      <td>chri</td>\n",
       "      <td>garrigu</td>\n",
       "      <td>...</td>\n",
       "      <td>None</td>\n",
       "      <td>None</td>\n",
       "      <td>None</td>\n",
       "      <td>None</td>\n",
       "      <td>None</td>\n",
       "      <td>None</td>\n",
       "      <td>None</td>\n",
       "      <td>None</td>\n",
       "      <td>None</td>\n",
       "      <td>None</td>\n",
       "    </tr>\n",
       "    <tr>\n",
       "      <th>1694</th>\n",
       "      <td>messag</td>\n",
       "      <td>mime</td>\n",
       "      <td>format</td>\n",
       "      <td>life</td>\n",
       "      <td>polici</td>\n",
       "      <td>critic</td>\n",
       "      <td>ill</td>\n",
       "      <td>life</td>\n",
       "      <td>insur</td>\n",
       "      <td>termin</td>\n",
       "      <td>...</td>\n",
       "      <td>None</td>\n",
       "      <td>None</td>\n",
       "      <td>None</td>\n",
       "      <td>None</td>\n",
       "      <td>None</td>\n",
       "      <td>None</td>\n",
       "      <td>None</td>\n",
       "      <td>None</td>\n",
       "      <td>None</td>\n",
       "      <td>None</td>\n",
       "    </tr>\n",
       "  </tbody>\n",
       "</table>\n",
       "<p>5 rows × 7354 columns</p>\n",
       "</div>"
      ],
      "text/plain": [
       "               0     1         2         3       4        5        6     \\\n",
       "DOC_ID                                                                    \n",
       "852     freightmart  mail  campaign      ship   anyth  anywher   anytim   \n",
       "3698            use  perl     daili  newslett    issu     week  septemb   \n",
       "3023            oop  turn      care    instal    exmh  librari  variabl   \n",
       "2840         robert   elz      date       sat     aug     date      thu   \n",
       "1694         messag  mime    format      life  polici   critic      ill   \n",
       "\n",
       "           7      8        9     ...  7344  7345  7346  7347  7348  7349  \\\n",
       "DOC_ID                           ...                                       \n",
       "852     auction  style     need  ...  None  None  None  None  None  None   \n",
       "3698      great   perl   monger  ...  None  None  None  None  None  None   \n",
       "3023      point    old   instal  ...  None  None  None  None  None  None   \n",
       "2840        aug   chri  garrigu  ...  None  None  None  None  None  None   \n",
       "1694       life  insur   termin  ...  None  None  None  None  None  None   \n",
       "\n",
       "        7350  7351  7352  7353  \n",
       "DOC_ID                          \n",
       "852     None  None  None  None  \n",
       "3698    None  None  None  None  \n",
       "3023    None  None  None  None  \n",
       "2840    None  None  None  None  \n",
       "1694    None  None  None  None  \n",
       "\n",
       "[5 rows x 7354 columns]"
      ]
     },
     "execution_count": 77,
     "metadata": {},
     "output_type": "execute_result"
    }
   ],
   "source": [
    "#create a sparse matrix for the test data. Grouped the occurence of the same email. then save the data as .txt file\n",
    "\n",
    "X_test.head()"
   ]
  },
  {
   "cell_type": "code",
   "execution_count": 78,
   "id": "d594ed87",
   "metadata": {},
   "outputs": [
    {
     "data": {
      "text/plain": [
       "DOC_IDs\n",
       "852     1\n",
       "3698    0\n",
       "3023    0\n",
       "2840    0\n",
       "1694    1\n",
       "Name: CATEGORY, dtype: int64"
      ]
     },
     "execution_count": 78,
     "metadata": {},
     "output_type": "execute_result"
    }
   ],
   "source": [
    "y_test.head()"
   ]
  },
  {
   "cell_type": "code",
   "execution_count": 79,
   "id": "5e392553",
   "metadata": {},
   "outputs": [
    {
     "name": "stdout",
     "output_type": "stream",
     "text": [
      "Wall time: 6min 23s\n"
     ]
    }
   ],
   "source": [
    "%%time \n",
    "\n",
    "sparse_test_df = make_sparse_matrix(X_test, word_index, y_test)\n"
   ]
  },
  {
   "cell_type": "code",
   "execution_count": 80,
   "id": "2e62e59b",
   "metadata": {},
   "outputs": [
    {
     "data": {
      "text/plain": [
       "(219808, 4)"
      ]
     },
     "execution_count": 80,
     "metadata": {},
     "output_type": "execute_result"
    }
   ],
   "source": [
    "sparse_test_df.shape"
   ]
  },
  {
   "cell_type": "code",
   "execution_count": 81,
   "id": "ffbed002",
   "metadata": {},
   "outputs": [
    {
     "data": {
      "text/html": [
       "<div>\n",
       "<style scoped>\n",
       "    .dataframe tbody tr th:only-of-type {\n",
       "        vertical-align: middle;\n",
       "    }\n",
       "\n",
       "    .dataframe tbody tr th {\n",
       "        vertical-align: top;\n",
       "    }\n",
       "\n",
       "    .dataframe thead th {\n",
       "        text-align: right;\n",
       "    }\n",
       "</style>\n",
       "<table border=\"1\" class=\"dataframe\">\n",
       "  <thead>\n",
       "    <tr style=\"text-align: right;\">\n",
       "      <th></th>\n",
       "      <th>DOC_ID</th>\n",
       "      <th>WORD_ID</th>\n",
       "      <th>Label</th>\n",
       "      <th>OCCURENCE</th>\n",
       "    </tr>\n",
       "  </thead>\n",
       "  <tbody>\n",
       "    <tr>\n",
       "      <th>0</th>\n",
       "      <td>8</td>\n",
       "      <td>2</td>\n",
       "      <td>1</td>\n",
       "      <td>1</td>\n",
       "    </tr>\n",
       "    <tr>\n",
       "      <th>1</th>\n",
       "      <td>8</td>\n",
       "      <td>3</td>\n",
       "      <td>1</td>\n",
       "      <td>2</td>\n",
       "    </tr>\n",
       "    <tr>\n",
       "      <th>2</th>\n",
       "      <td>8</td>\n",
       "      <td>4</td>\n",
       "      <td>1</td>\n",
       "      <td>4</td>\n",
       "    </tr>\n",
       "    <tr>\n",
       "      <th>3</th>\n",
       "      <td>8</td>\n",
       "      <td>5</td>\n",
       "      <td>1</td>\n",
       "      <td>2</td>\n",
       "    </tr>\n",
       "    <tr>\n",
       "      <th>4</th>\n",
       "      <td>8</td>\n",
       "      <td>6</td>\n",
       "      <td>1</td>\n",
       "      <td>1</td>\n",
       "    </tr>\n",
       "  </tbody>\n",
       "</table>\n",
       "</div>"
      ],
      "text/plain": [
       "   DOC_ID  WORD_ID  Label  OCCURENCE\n",
       "0       8        2      1          1\n",
       "1       8        3      1          2\n",
       "2       8        4      1          4\n",
       "3       8        5      1          2\n",
       "4       8        6      1          1"
      ]
     },
     "execution_count": 81,
     "metadata": {},
     "output_type": "execute_result"
    }
   ],
   "source": [
    "test_grouped = sparse_test_df.groupby(['DOC_ID', 'WORD_ID', 'Label']).sum().reset_index()\n",
    "test_grouped.head()"
   ]
  },
  {
   "cell_type": "code",
   "execution_count": 82,
   "id": "cd16a1b9",
   "metadata": {},
   "outputs": [
    {
     "data": {
      "text/plain": [
       "(128813, 4)"
      ]
     },
     "execution_count": 82,
     "metadata": {},
     "output_type": "execute_result"
    }
   ],
   "source": [
    "test_grouped.shape"
   ]
  },
  {
   "cell_type": "code",
   "execution_count": 83,
   "id": "5c63694b",
   "metadata": {},
   "outputs": [],
   "source": [
    "np.savetxt(TEST_DATA_FILE, test_grouped, fmt= '%d')"
   ]
  },
  {
   "cell_type": "markdown",
   "id": "12d353f8",
   "metadata": {},
   "source": [
    "### Pre-Processing Sublists "
   ]
  },
  {
   "cell_type": "code",
   "execution_count": 84,
   "id": "94bcc935",
   "metadata": {},
   "outputs": [],
   "source": [
    "train_doc_ids = set(train_grouped.DOC_ID)\n",
    "test_doc_ids = set(test_grouped.DOC_ID)"
   ]
  },
  {
   "cell_type": "code",
   "execution_count": 85,
   "id": "78f80774",
   "metadata": {},
   "outputs": [
    {
     "data": {
      "text/plain": [
       "4782"
      ]
     },
     "execution_count": 85,
     "metadata": {},
     "output_type": "execute_result"
    }
   ],
   "source": [
    "len(train_doc_ids)"
   ]
  },
  {
   "cell_type": "code",
   "execution_count": 86,
   "id": "a96bd76c",
   "metadata": {},
   "outputs": [
    {
     "data": {
      "text/plain": [
       "4827"
      ]
     },
     "execution_count": 86,
     "metadata": {},
     "output_type": "execute_result"
    }
   ],
   "source": [
    "len(X_train)"
   ]
  },
  {
   "cell_type": "code",
   "execution_count": 87,
   "id": "ae581428",
   "metadata": {},
   "outputs": [
    {
     "data": {
      "text/plain": [
       "2052"
      ]
     },
     "execution_count": 87,
     "metadata": {},
     "output_type": "execute_result"
    }
   ],
   "source": [
    "len(test_doc_ids)"
   ]
  },
  {
   "cell_type": "code",
   "execution_count": 88,
   "id": "3f4a5f42",
   "metadata": {},
   "outputs": [
    {
     "data": {
      "text/plain": [
       "2069"
      ]
     },
     "execution_count": 88,
     "metadata": {},
     "output_type": "execute_result"
    }
   ],
   "source": [
    "len(X_test)             # there are some emails aere miisng from test_doc_ids to xtest same for train"
   ]
  },
  {
   "cell_type": "code",
   "execution_count": 89,
   "id": "a7eab76d",
   "metadata": {},
   "outputs": [
    {
     "data": {
      "text/plain": [
       "{73,\n",
       " 91,\n",
       " 179,\n",
       " 240,\n",
       " 339,\n",
       " 439,\n",
       " 471,\n",
       " 734,\n",
       " 742,\n",
       " 765,\n",
       " 940,\n",
       " 965,\n",
       " 1095,\n",
       " 1170,\n",
       " 1360,\n",
       " 1544,\n",
       " 1670}"
      ]
     },
     "execution_count": 89,
     "metadata": {},
     "output_type": "execute_result"
    }
   ],
   "source": [
    "set(X_test.index.values) - test_doc_ids"
   ]
  },
  {
   "cell_type": "code",
   "execution_count": 90,
   "id": "2790c7a2",
   "metadata": {},
   "outputs": [
    {
     "data": {
      "text/plain": [
       "'------=_NextPart_000_00C2_37C70C2D.A8844B81\\n\\nContent-Type: text/html; charset=\"iso-8859-1\"\\n\\nContent-Transfer-Encoding: base64\\n\\n\\n\\n\\n\\nPCFET0NUWVBFIEhUTUwgUFVCTElDICItLy9XM0MvL0RURCBIVE1MIDQuMDEg\\n\\nVHJhbnNpdGlvbmFsLy9FTiI+DQo8aHRtbD4NCjxoZWFkPg0KPHRpdGxlPkFk\\n\\ndWx0IENsYXNzaWZpZWQgMmsyPC90aXRsZT4NCjxtZXRhIGh0dHAtZXF1aXY9\\n\\nIkNvbnRlbnQtVHlwZSIgY29udGVudD0idGV4dC9odG1sOyBjaGFyc2V0PWlz\\n\\nby04ODU5LTEiPg0KPC9oZWFkPg0KDQo8Ym9keSBiZ2NvbG9yPSIjRkZGRkZG\\n\\nIiBsaW5rPSIjQ0M5OTk5IiBsZWZ0bWFyZ2luPSIwIiB0b3BtYXJnaW49IjAi\\n\\nIG1hcmdpbndpZHRoPSIwIiBtYXJnaW5oZWlnaHQ9IjAiPg0KDQo8Y2VudGVy\\n\\nPg0KICA8YnI+DQogIDx0YWJsZSB3aWR0aD0iNjAwIiBib3JkZXI9IjAiIGNl\\n\\nbGxzcGFjaW5nPSIwIiBjZWxscGFkZGluZz0iMSI+DQogICAgPHRyPg0KICAg\\n\\nICAgPHRkIGJnY29sb3I9IiM5OTAwMDAiPjx0YWJsZSB3aWR0aD0iNjAwIiBi\\n\\nb3JkZXI9IjAiIGNlbGxzcGFjaW5nPSIwIiBjZWxscGFkZGluZz0iMCI+DQog\\n\\nICAgICAgICAgPHRyPg0KICAgICAgICAgICAgPHRkIGJnY29sb3I9IiNGRkZG\\n\\nRkYiPg0KICAgICAgICAgIA0KICAgICAgICAgIDxkaXYgYWxpZ249InJpZ2h0\\n\\nIj48aW1nIHNyYz0iaHR0cDovL3d3dy54eHhtYXRjaC5uZXQvbG9nby5qcGci\\n\\nIHdpZHRoPSI2MDAiIGhlaWdodD0iNjUiPjxicj4NCiAgICAgICAgICA8Yj48\\n\\nZm9udCBjb2xvcj0iI0NDMDAzMyIgc2l6ZT0iMiIgZmFjZT0iR2VuZXZhLCBB\\n\\ncmlhbCwgSGVsdmV0aWNhLCBzYW5zLXNlcmlmIj4tLS0gVGhlIG1vc3QgY29t\\n\\ncHJlaGVuc2l2ZSBhZHVsdCBtYXRjaCBtYWtpbmcgc2VydmljZTxicj4NCiAg\\n\\nICAgICAgICA8YnI+DQogICAgICAgICAgICAgICAgICAgIDwvZm9udD48L2I+\\n\\nDQo8L2Rpdj48L3RkPg0KICAgICAgICAgIDwvdHI+DQogICAgICAgICAgPHRy\\n\\nPg0KICAgICAgICAgICAgPHRkIGJnY29sb3I9IiNGRkZGRkYiPjxjZW50ZXI+\\n\\nDQogICAgICAgICAgICAgICAgPHRhYmxlIHdpZHRoPSI0MDAiIGJvcmRlcj0i\\n\\nMCIgY2VsbHNwYWNpbmc9IjMiIGNlbGxwYWRkaW5nPSIxIj4NCiAgICAgICAg\\n\\nICAgICAgICAgIDx0ciBiZ2NvbG9yPSIjOTkwMDAwIj4NCiAgICAgICAgICAg\\n\\nICAgICAgICAgPHRkIHdpZHRoPSIxMDAiPjxpbWcgc3JjPSJodHRwOi8vd3d3\\n\\nLnh4eG1hdGNoLm5ldC9mcm9udHBpYy00LmdpZiIgd2lkdGg9IjEwMCIgaGVp\\n\\nZ2h0PSIxNTAiPjwvdGQ+DQogICAgICAgICAgICAgICAgICAgIDx0ZCB3aWR0\\n\\naD0iMTAwIj48aW1nIHNyYz0iaHR0cDovL3d3dy54eHhtYXRjaC5uZXQvZnJv\\n\\nbnRwaWNtLTIuZ2lmIiB3aWR0aD0iMTAwIiBoZWlnaHQ9IjE1MCI+PC90ZD4N\\n\\nCiAgICAgICAgICAgICAgICAgICAgPHRkIHdpZHRoPSIxMDAiPjxpbWcgc3Jj\\n\\nPSJodHRwOi8vd3d3Lnh4eG1hdGNoLm5ldC9mcm9udHBpYy0yLmdpZiIgd2lk\\n\\ndGg9IjEwMCIgaGVpZ2h0PSIxNTAiPjwvdGQ+DQogICAgICAgICAgICAgICAg\\n\\nICAgIDx0ZCB3aWR0aD0iMTAwIj48aW1nIHNyYz0iaHR0cDovL3d3dy54eHht\\n\\nYXRjaC5uZXQvZnJvbnRwaWNtLTEuZ2lmIiB3aWR0aD0iMTAwIiBoZWlnaHQ9\\n\\nIjE1MCI+PC90ZD4NCiAgICAgICAgICAgICAgICAgIDwvdHI+DQogICAgICAg\\n\\nICAgICAgICAgPC90YWJsZT4NCiAgICAgICAgICAgICAgICA8Zm9udCBjb2xv\\n\\ncj0iIzk5MDAwMCIgc2l6ZT0iMSIgZmFjZT0iVmVyZGFuYSwgQXJpYWwsIEhl\\n\\nbHZldGljYSwgc2Fucy1zZXJpZiI+Q2hlY2sgc29tZSBvZiBvdXIgIGFjdHVh\\n\\nbCBwaWN0dXJlcyBmcm9tIDxiPnJlYWw8L2I+IG1lbWJlcnMhPC9mb250Pjxi\\n\\ncj4NCiAgICAgICAgICAgICAgICA8dGFibGUgd2lkdGg9IjQyMCIgYm9yZGVy\\n\\nPSIwIiBjZWxsc3BhY2luZz0iMyIgY2VsbHBhZGRpbmc9IjEiPg0KICAgICAg\\n\\nICAgICAgICAgICAgPHRyPg0KICAgICAgICAgICAgICAgICAgICA8dGQ+PGNl\\n\\nbnRlcj4NCiAgICAgICAgICAgICAgICAgIDxmb250IGNvbG9yPSIjOTkwMDAw\\n\\nIiBzaXplPSIyIiBmYWNlPSJWZXJkYW5hLCBBcmlhbCwgSGVsdmV0aWNhLCBz\\n\\nYW5zLXNlcmlmIj48YnI+DQogICAgICAgICAgICAgICAgICA8YnI+DQogICAg\\n\\nICAgICAgICAgICAgICAgICAgICAgICAgICAgICAgICA8L2ZvbnQ+PGZvbnQg\\n\\nc2l6ZT0iMiIgZmFjZT0iVmVyZGFuYSwgQXJpYWwsIEhlbHZldGljYSwgc2Fu\\n\\ncy1zZXJpZiI+PC9mb250Pjxmb250IGNvbG9yPSIjOTkwMDAwIiBzaXplPSIy\\n\\nIiBmYWNlPSJWZXJkYW5hLCBBcmlhbCwgSGVsdmV0aWNhLCBzYW5zLXNlcmlm\\n\\nIj48Yj5XZWxjb21lPC9iPiB0byBvbmUgb2YgdGhlIEludGVybmV0J3MgcHJl\\n\\nbWllciBhZHVsdCBtYXRjaCBtYWtpbmcgc2VydmljZXMgd2hlcmUgcGVvcGxl\\n\\nIGp1c3QgbGlrZSB5b3Vyc2VsZiBjYW4gdmlldyBhbmQgcGxhY2UgcGVyc29u\\n\\nYWwgYWR2ZXJ0aXNlbWVudHMgd2hpY2ggYXJlIHZpZXdlZCBieSB0aG91c2Fu\\n\\nZHMgZGFpbHkhDQo8YnI+DQogICAgICAgICAgICAgICAgICA8YnI+DQogICAg\\n\\nICAgICAgICAgICAgICA8L2ZvbnQ+DQogICAgICAgICAgICAgICAgICAgICAg\\n\\nPC9jZW50ZXI+DQogICAgICAgICAgICAgICAgICAgICAgPGNlbnRlcj4NCiAg\\n\\nICAgICAgICAgICAgICAgIDxmb250IGNvbG9yPSIjOTkwMDAwIiBzaXplPSIy\\n\\nIiBmYWNlPSJWZXJkYW5hLCBBcmlhbCwgSGVsdmV0aWNhLCBzYW5zLXNlcmlm\\n\\nIj4NCiAgICAgICAgICAgICAgICBXZWIgQWR1bHQgQ2xhc3NpZmllZHMgaGFz\\n\\nIHRob3VzYW5kcyBvZiBhZHMgLSBzb21ldGhpbmcgZm9yIGV2ZXJ5b25lLCBt\\n\\nYWxlIG9yIGZlbG1hbGUhIA0KICAgICAgICAgICAgICAgIDwvZm9udD4NCiAg\\n\\nICAgICAgICAgICAgICANCiAgICAgICAgICAgICAgICAgIDxmb250IGNvbG9y\\n\\nPSIjOTkwMDAwIiBzaXplPSIyIiBmYWNlPSJWZXJkYW5hLCBBcmlhbCwgSGVs\\n\\ndmV0aWNhLCBzYW5zLXNlcmlmIj48YnI+DQogICAgICAgICAgICAgICAgICA8\\n\\nYnI+DQogICAgICAgICAgICAgICAgICA8L2ZvbnQ+PGZvbnQgc2l6ZT0iMiIg\\n\\nZmFjZT0iVmVyZGFuYSwgQXJpYWwsIEhlbHZldGljYSwgc2Fucy1zZXJpZiI+\\n\\nDQogICAgICAgICAgICAgICAgICA8YnI+DQogICAgICAgICAgICAgICAgICA8\\n\\naW1nIHNyYz0iaHR0cDovL3d3dy54eHhtYXRjaC5uZXQvaGVhcnQuZ2lmIiB3\\n\\naWR0aD0iMTUiIGhlaWdodD0iMTMiPiZuYnNwOyAgICAgICAgICAgICAgICAg\\n\\nIA0KICAgICAgICAgICAgICAgICAgPGEgaHJlZj0iaHR0cDovL3d3dy54eHht\\n\\nYXRjaC5uZXQvdmVyaWZ5Lmh0bSI+PGI+Q2xpY2sgaGVyZSB0byBiZSBjb252\\n\\naW5jZWQ8L2I+PC9hPiZuYnNwOyZuYnNwOzxpbWcgc3JjPSJodHRwOi8vd3d3\\n\\nLnh4eG1hdGNoLm5ldC9oZWFydC5naWYiIHdpZHRoPSIxNSIgaGVpZ2h0PSIx\\n\\nMyI+PGJyPg0KICAgICAgICAgICAgICAgICAgPGZvbnQgY29sb3I9IiM5OTAw\\n\\nMDAiIHNpemU9IjEiPjxiPih3aWxsIG9wZW4gaW4gYSBuZXcgd2luZG93IGZv\\n\\nciB5b3VyIGNvbnZlbmllbmNlKTwvYj48L2ZvbnQ+PC9mb250Pjxicj4NCiAg\\n\\nICAgICAgICAgICAgICAgICAgICAgICAgICAgICAgICA8L2NlbnRlcj48L3Rk\\n\\nPg0KICAgICAgICAgICAgICAgICAgPC90cj4NCiAgICAgICAgICAgICAgICA8\\n\\nL3RhYmxlPg0KICAgICAgICAgICAgICAgIDxicj4NCiAgICAgICAgPC9jZW50\\n\\nZXI+PC90ZD4NCiAgICAgICAgICA8L3RyPg0KICA8L3RhYmxlPjwvdGQ+DQog\\n\\nICAgPC90cj4NCiAgPC90YWJsZT4NCiAgDQogIDx0YWJsZSB3aWR0aD0iNjAw\\n\\nIiBib3JkZXI9IjAiIGNlbGxzcGFjaW5nPSIwIiBjZWxscGFkZGluZz0iMCI+\\n\\nDQogICAgPHRyPg0KICAgICAgPHRkPjxkaXYgYWxpZ249InJpZ2h0Ij48Zm9u\\n\\ndCBzaXplPSIxIiBmYWNlPSJWZXJkYW5hLCBBcmlhbCwgSGVsdmV0aWNhLCBz\\n\\nYW5zLXNlcmlmIj48Yj4mY29weTtYeHhNYXRjaC5uZXQgMjAwMjwvYj48L2Zv\\n\\nbnQ+DQo8L2Rpdj48L3RkPg0KICAgIDwvdHI+DQogIDwvdGFibGU+DQogIDxi\\n\\ncj4NCjwvY2VudGVyPg0KPC9ib2R5Pg0KPC9odG1sPg0KDQo0MTk5bHJqbDc=\\n\\n\\n'"
      ]
     },
     "execution_count": 90,
     "metadata": {},
     "output_type": "execute_result"
    }
   ],
   "source": [
    "data.MESSAGE[73]"
   ]
  },
  {
   "cell_type": "code",
   "execution_count": 91,
   "id": "20ede7e4",
   "metadata": {},
   "outputs": [
    {
     "data": {
      "text/plain": [
       "[]"
      ]
     },
     "execution_count": 91,
     "metadata": {},
     "output_type": "execute_result"
    }
   ],
   "source": [
    "clean_message_no_html(data.at[73, 'MESSAGE']) "
   ]
  },
  {
   "cell_type": "code",
   "execution_count": 92,
   "id": "8a60c23f",
   "metadata": {},
   "outputs": [
    {
     "data": {
      "text/plain": [
       "[]"
      ]
     },
     "execution_count": 92,
     "metadata": {},
     "output_type": "execute_result"
    }
   ],
   "source": [
    "clean_message(data.at[73, 'MESSAGE'])"
   ]
  },
  {
   "cell_type": "code",
   "execution_count": null,
   "id": "1f192843",
   "metadata": {},
   "outputs": [],
   "source": []
  }
 ],
 "metadata": {
  "kernelspec": {
   "display_name": "Python 3 (ipykernel)",
   "language": "python",
   "name": "python3"
  },
  "language_info": {
   "codemirror_mode": {
    "name": "ipython",
    "version": 3
   },
   "file_extension": ".py",
   "mimetype": "text/x-python",
   "name": "python",
   "nbconvert_exporter": "python",
   "pygments_lexer": "ipython3",
   "version": "3.9.7"
  }
 },
 "nbformat": 4,
 "nbformat_minor": 5
}
